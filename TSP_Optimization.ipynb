{
  "cells": [
    {
      "cell_type": "markdown",
      "metadata": {
        "id": "view-in-github",
        "colab_type": "text"
      },
      "source": [
        "<a href=\"https://colab.research.google.com/github/Desi385/aco_for_jupyter_notebook/blob/main/TSP_Optimization.ipynb\" target=\"_parent\"><img src=\"https://colab.research.google.com/assets/colab-badge.svg\" alt=\"Open In Colab\"/></a>"
      ]
    },
    {
      "cell_type": "code",
      "execution_count": null,
      "metadata": {
        "colab": {
          "base_uri": "https://localhost:8080/"
        },
        "id": "pTcsiBgbi9Iu",
        "outputId": "cc2a55f1-9bff-4a70-9cd5-883e547b1f74"
      },
      "outputs": [
        {
          "name": "stdout",
          "output_type": "stream",
          "text": [
            "Looking in indexes: https://pypi.org/simple, https://us-python.pkg.dev/colab-wheels/public/simple/\n",
            "Requirement already satisfied: nltk in /usr/local/lib/python3.7/dist-packages (3.7)\n",
            "Requirement already satisfied: click in /usr/local/lib/python3.7/dist-packages (from nltk) (7.1.2)\n",
            "Requirement already satisfied: joblib in /usr/local/lib/python3.7/dist-packages (from nltk) (1.2.0)\n",
            "Requirement already satisfied: regex>=2021.8.3 in /usr/local/lib/python3.7/dist-packages (from nltk) (2022.6.2)\n",
            "Requirement already satisfied: tqdm in /usr/local/lib/python3.7/dist-packages (from nltk) (4.64.1)\n",
            "Looking in indexes: https://pypi.org/simple, https://us-python.pkg.dev/colab-wheels/public/simple/\n",
            "Requirement already satisfied: beautifulsoup4 in /usr/local/lib/python3.7/dist-packages (4.6.3)\n",
            "Collecting vaderSentiment\n",
            "  Downloading vaderSentiment-3.3.2-py2.py3-none-any.whl (125 kB)\n",
            "\u001b[K     |████████████████████████████████| 125 kB 5.3 MB/s \n",
            "\u001b[?25hRequirement already satisfied: pandas in /usr/local/lib/python3.7/dist-packages (1.3.5)\n",
            "Requirement already satisfied: requests in /usr/local/lib/python3.7/dist-packages (2.23.0)\n",
            "Requirement already satisfied: matplotlib in /usr/local/lib/python3.7/dist-packages (3.2.2)\n",
            "Requirement already satisfied: pytz>=2017.3 in /usr/local/lib/python3.7/dist-packages (from pandas) (2022.5)\n",
            "Requirement already satisfied: python-dateutil>=2.7.3 in /usr/local/lib/python3.7/dist-packages (from pandas) (2.8.2)\n",
            "Requirement already satisfied: numpy>=1.17.3 in /usr/local/lib/python3.7/dist-packages (from pandas) (1.21.6)\n",
            "Requirement already satisfied: six>=1.5 in /usr/local/lib/python3.7/dist-packages (from python-dateutil>=2.7.3->pandas) (1.15.0)\n",
            "Requirement already satisfied: urllib3!=1.25.0,!=1.25.1,<1.26,>=1.21.1 in /usr/local/lib/python3.7/dist-packages (from requests) (1.24.3)\n",
            "Requirement already satisfied: certifi>=2017.4.17 in /usr/local/lib/python3.7/dist-packages (from requests) (2022.9.24)\n",
            "Requirement already satisfied: idna<3,>=2.5 in /usr/local/lib/python3.7/dist-packages (from requests) (2.10)\n",
            "Requirement already satisfied: chardet<4,>=3.0.2 in /usr/local/lib/python3.7/dist-packages (from requests) (3.0.4)\n",
            "Requirement already satisfied: kiwisolver>=1.0.1 in /usr/local/lib/python3.7/dist-packages (from matplotlib) (1.4.4)\n",
            "Requirement already satisfied: cycler>=0.10 in /usr/local/lib/python3.7/dist-packages (from matplotlib) (0.11.0)\n",
            "Requirement already satisfied: pyparsing!=2.0.4,!=2.1.2,!=2.1.6,>=2.0.1 in /usr/local/lib/python3.7/dist-packages (from matplotlib) (3.0.9)\n",
            "Requirement already satisfied: typing-extensions in /usr/local/lib/python3.7/dist-packages (from kiwisolver>=1.0.1->matplotlib) (4.1.1)\n",
            "Installing collected packages: vaderSentiment\n",
            "Successfully installed vaderSentiment-3.3.2\n",
            "['AAPL', 'MSFT', 'GOOG', 'AMZN', 'TSLA', 'NVDA', 'TSM', '005930.KS', 'TCEHY', 'META']\n"
          ]
        }
      ],
      "source": [
        "import requests\n",
        "import pandas as pandas\n",
        "import numpy as np\n",
        "from bs4 import BeautifulSoup\n",
        "from nltk.sentiment.vader import SentimentIntensityAnalyzer as sia\n",
        "!pip install nltk\n",
        "!pip install beautifulsoup4 vaderSentiment pandas requests matplotlib\n",
        "\n",
        "\n",
        "html = requests.get('https://companiesmarketcap.com/tech/largest-tech-companies-by-market-cap/').text\n",
        "soup = BeautifulSoup(html, 'html.parser')\n",
        "companyName = [x.get_text(strip=True) for x in soup.find_all('div', {'class': 'company-name'})][:10]\n",
        "companyCode = [x.get_text(strip=True) for x in soup.find_all('div', {'class': 'company-code'})][:10]\n",
        "\n",
        "print(companyCode)"
      ]
    },
    {
      "cell_type": "code",
      "execution_count": null,
      "metadata": {
        "colab": {
          "base_uri": "https://localhost:8080/"
        },
        "id": "SyPdkcEDlKxi",
        "outputId": "c3d06905-e30d-4ca4-b31b-6d32b2b0750a"
      },
      "outputs": [
        {
          "name": "stdout",
          "output_type": "stream",
          "text": [
            "<table border=\"0\" cellpadding=\"1\" cellspacing=\"0\" class=\"fullview-news-outer\" id=\"news-table\" width=\"100%\">\n",
            "<tr><td align=\"right\" width=\"130\">Nov-01-22 12:06AM</td><td align=\"left\"><div class=\"news-link-container\"><div class=\"news-link-left\"><a class=\"tab-link-news\" href=\"https://finance.yahoo.com/news/1-apple-supplier-foxconn-quadruples-040647744.html\" onclick=\"trackAndOpenNews(event, 'Reuters', 'https://finance.yahoo.com/news/1-apple-supplier-foxconn-quadruples-040647744.html');\" target=\"_blank\">UPDATE 1-Apple supplier Foxconn quadruples bonuses to staff hit by China COVID lockdown</a></div><div class=\"news-link-right\"><span style=\"color:#aa6dc0;font-size:9px\"> Reuters</span></div></div></td></tr>\n",
            "<tr><td align=\"right\" width=\"130\">Oct-31-22 09:48PM</td><td align=\"left\"><div class=\"news-link-container\"><div class=\"news-link-left\"><a class=\"tab-link-news\" href=\"https://finance.yahoo.com/news/apple-supplier-foxconn-quadruples-bonuses-014805105.html\" onclick=\"trackAndOpenNews(event, 'Reuters', 'https://finance.yahoo.com/news/apple-supplier-foxconn-quadruples-bonuses-014805105.html');\" target=\"_blank\">Apple supplier Foxconn quadruples bonuses to staff hit by China COVID lockdown</a></div><div class=\"news-link-right\"><span style=\"color:#aa6dc0;font-size:9px\"> Reuters</span></div></div></td></tr>\n",
            "<tr><td align=\"right\" width=\"130\">09:48PM</td><td align=\"left\"><div class=\"news-link-container\"><div class=\"news-link-left\"><a class=\"tab-link-news\" href=\"https://finance.yahoo.com/news/apple-supplier-foxconn-gives-pay-014805161.html\" onclick=\"trackAndOpenNews(event, 'Reuters', 'https://finance.yahoo.com/news/apple-supplier-foxconn-gives-pay-014805161.html');\" target=\"_blank\">Apple supplier Foxconn gives pay rise to staff hit by COVID lockdown - media</a></div><div class=\"news-link-right\"><span style=\"color:#aa6dc0;font-size:9px\"> Reuters</span></div></div></td></tr>\n",
            "<tr><td align=\"right\" width=\"130\">09:48PM</td><td align=\"left\"><div class=\"news-link-container\"><div class=\"news-link-left\"><a class=\"tab-link-news\" href=\"https://finance.yahoo.com/news/apple-supplier-foxconn-gives-bonuses-014805379.html\" onclick=\"trackAndOpenNews(event, 'Reuters', 'https://finance.yahoo.com/news/apple-supplier-foxconn-gives-bonuses-014805379.html');\" target=\"_blank\">Apple supplier Foxconn gives bonuses to staff hit by COVID lockdown - media</a></div><div class=\"news-link-right\"><span style=\"color:#aa6dc0;font-size:9px\"> Reuters</span></div></div></td></tr>\n",
            "<tr><td align=\"right\" width=\"130\">09:41PM</td><td align=\"left\"><div class=\"news-link-container\"><div class=\"news-link-left\"><a class=\"tab-link-news\" href=\"https://finance.yahoo.com/news/corrected-apple-supplier-foxconn-gives-014100901.html\" onclick=\"trackAndOpenNews(event, 'Reuters', 'https://finance.yahoo.com/news/corrected-apple-supplier-foxconn-gives-014100901.html');\" target=\"_blank\">CORRECTED-Apple supplier Foxconn gives bonuses to staff hit by COVID lockdown - media</a></div><div class=\"news-link-right\"><span style=\"color:#aa6dc0;font-size:9px\"> Reuters</span></div></div></td></tr>\n",
            "<tr>\n",
            "<td align=\"right\" width=\"130\">09:41PM</td>\n",
            "<td align=\"left\" id=\"IC_D_3x8_1\"><span class=\"block text-3xs text-gray-500 leading-none\">Loading…</span></td>\n",
            "</tr>\n",
            "<tr><td align=\"right\" width=\"130\">09:41PM</td><td align=\"left\"><div class=\"news-link-container\"><div class=\"news-link-left\"><a class=\"tab-link-news\" href=\"https://finance.yahoo.com/news/apple-supplier-foxconn-gives-pay-014100132.html\" onclick=\"trackAndOpenNews(event, 'Reuters', 'https://finance.yahoo.com/news/apple-supplier-foxconn-gives-pay-014100132.html');\" target=\"_blank\">Apple supplier Foxconn gives pay rise to staff hit by COVID lockdown - media</a></div><div class=\"news-link-right\"><span style=\"color:#aa6dc0;font-size:9px\"> Reuters</span></div></div></td></tr>\n",
            "<tr><td align=\"right\" width=\"130\">08:21PM</td><td align=\"left\"><div class=\"news-link-container\"><div class=\"news-link-left\"><a class=\"tab-link-news\" href=\"https://finance.yahoo.com/news/10-trending-stocks-watch-monday-002142175.html\" onclick=\"trackAndOpenNews(event, 'Insider Monkey', 'https://finance.yahoo.com/news/10-trending-stocks-watch-monday-002142175.html');\" target=\"_blank\">10 Trending Stocks to Watch on Monday</a></div><div class=\"news-link-right\"><span style=\"color:#aa6dc0;font-size:9px\"> Insider Monkey</span></div></div></td></tr>\n",
            "<tr><td align=\"right\" width=\"130\">06:46PM</td><td align=\"left\"><div class=\"news-link-container\"><div class=\"news-link-left\"><a class=\"tab-link-news\" href=\"https://finance.yahoo.com/news/top-12-esg-companies-2022-221329182.html\" onclick=\"trackAndOpenNews(event, 'Insider Monkey', 'https://finance.yahoo.com/news/top-12-esg-companies-2022-221329182.html');\" target=\"_blank\">Top 12 ESG Companies in 2022</a></div><div class=\"news-link-right\"><span style=\"color:#aa6dc0;font-size:9px\"> Insider Monkey</span></div></div></td></tr>\n",
            "<tr><td align=\"right\" width=\"130\">06:10PM</td><td align=\"left\"><div class=\"news-link-container\"><div class=\"news-link-left\"><a class=\"tab-link-news\" href=\"https://finance.yahoo.com/news/apple-online-store-information-systems-221014793.html\" onclick=\"trackAndOpenNews(event, 'Bloomberg', 'https://finance.yahoo.com/news/apple-online-store-information-systems-221014793.html');\" target=\"_blank\">Apples Online Store and Information Systems Chiefs Are Leaving</a></div><div class=\"news-link-right\"><span style=\"color:#aa6dc0;font-size:9px\"> Bloomberg</span></div></div></td></tr>\n",
            "<tr><td align=\"right\" width=\"130\">04:25PM</td><td align=\"left\"><div class=\"news-link-container\"><div class=\"news-link-left\"><a class=\"tab-link-news\" href=\"https://finance.yahoo.com/news/us-stocks-wall-street-ends-202531198.html\" onclick=\"trackAndOpenNews(event, 'Reuters', 'https://finance.yahoo.com/news/us-stocks-wall-street-ends-202531198.html');\" target=\"_blank\">US STOCKS-Wall Street ends strong month on weaker note; focus on Fed meeting</a></div><div class=\"news-link-right\"><span style=\"color:#aa6dc0;font-size:9px\"> Reuters</span></div></div></td></tr>\n",
            "<tr><td align=\"right\" width=\"130\">04:12PM</td><td align=\"left\"><div class=\"news-link-container\"><div class=\"news-link-left\"><a class=\"tab-link-news\" href=\"https://finance.yahoo.com/news/bulls-meta-stock-one-big-201205675.html\" onclick=\"trackAndOpenNews(event, 'Bloomberg', 'https://finance.yahoo.com/news/bulls-meta-stock-one-big-201205675.html');\" target=\"_blank\">Bulls on Meta Stock Have One Big Problem: Mark Zuckerberg</a></div><div class=\"news-link-right\"><span style=\"color:#aa6dc0;font-size:9px\"> Bloomberg</span></div></div></td></tr>\n",
            "<tr><td align=\"right\" width=\"130\">04:10PM</td><td align=\"left\"><div class=\"news-link-container\"><div class=\"news-link-left\"><a class=\"tab-link-news\" href=\"https://finance.yahoo.com/video/microsoft-struggles-succeed-metaverse-hololens-201000883.html\" onclick=\"trackAndOpenNews(event, 'WSJ', 'https://finance.yahoo.com/video/microsoft-struggles-succeed-metaverse-hololens-201000883.html');\" target=\"_blank\">Microsoft Struggles to Succeed in the Metaverse With HoloLens</a></div><div class=\"news-link-right\"><span style=\"color:#aa6dc0;font-size:9px\"> WSJ</span></div></div></td></tr>\n",
            "<tr><td align=\"right\" width=\"130\">04:00PM</td><td align=\"left\"><div class=\"news-link-container\"><div class=\"news-link-left\"><a class=\"tab-link-news\" href=\"https://finance.yahoo.com/news/us-stocks-wall-street-ends-200027593.html\" onclick=\"trackAndOpenNews(event, 'Reuters', 'https://finance.yahoo.com/news/us-stocks-wall-street-ends-200027593.html');\" target=\"_blank\">US STOCKS-Wall Street ends strong month on weaker note; focus on Fed meeting</a></div><div class=\"news-link-right\"><span style=\"color:#aa6dc0;font-size:9px\"> Reuters</span></div></div></td></tr>\n",
            "<tr><td align=\"right\" width=\"130\">02:49PM</td><td align=\"left\"><div class=\"news-link-container\"><div class=\"news-link-left\"><a class=\"tab-link-news\" href=\"https://www.marketwatch.com/story/apple-more-than-meta-holds-the-key-to-unlocking-a-metaverse-type-world-of-ar-11667242142?siteid=yhoof2\" onclick=\"trackAndOpenNews(event, 'MarketWatch', 'https://www.marketwatch.com/story/apple-more-than-meta-holds-the-key-to-unlocking-a-metaverse-type-world-of-ar-11667242142?siteid=yhoof2');\" target=\"_blank\">Apple, more than Meta, holds the key to unlocking a metaverse-type world of AR</a></div><div class=\"news-link-right\"><span style=\"color:#aa6dc0;font-size:9px\"> MarketWatch</span></div></div></td></tr>\n",
            "<tr><td align=\"right\" width=\"130\">02:43PM</td><td align=\"left\"><div class=\"news-link-container\"><div class=\"news-link-left\"><a class=\"tab-link-news\" href=\"https://finance.yahoo.com/news/us-stocks-wall-street-falls-184315794.html\" onclick=\"trackAndOpenNews(event, 'Reuters', 'https://finance.yahoo.com/news/us-stocks-wall-street-falls-184315794.html');\" target=\"_blank\">US STOCKS-Wall Street falls after two-week rally; eyes on Fed meeting</a></div><div class=\"news-link-right\"><span style=\"color:#aa6dc0;font-size:9px\"> Reuters</span></div></div></td></tr>\n",
            "<tr>\n",
            "<td align=\"right\" width=\"130\">02:37PM</td>\n",
            "<td align=\"left\" id=\"IC_D_3x8_2\"><span class=\"block text-3xs text-gray-500 leading-none\">Loading…</span></td>\n",
            "</tr>\n",
            "<tr><td align=\"right\" width=\"130\">02:37PM</td><td align=\"left\"><div class=\"news-link-container\"><div class=\"news-link-left\"><a class=\"tab-link-news\" href=\"https://www.thestreet.com/technology/apples-big-problem-gets-bigger?puc=yahoo&amp;cm_ven=YAHOO\" onclick=\"trackAndOpenNews(event, 'TheStreet.com', 'https://www.thestreet.com/technology/apples-big-problem-gets-bigger?puc=yahoo&amp;cm_ven=YAHOO');\" target=\"_blank\">Apple's Big Problem Gets Bigger</a></div><div class=\"news-link-right\"><span style=\"color:#aa6dc0;font-size:9px\"> TheStreet.com</span></div></div></td></tr>\n",
            "<tr><td align=\"right\" width=\"130\">02:36PM</td><td align=\"left\"><div class=\"news-link-container\"><div class=\"news-link-left\"><a class=\"tab-link-news\" href=\"https://www.fool.com/investing/2022/10/31/apple-provides-further-proof-of-its-dominance-in-t/?source=eptyholnk0000202&amp;utm_source=yahoo-host&amp;utm_medium=feed&amp;utm_campaign=article\" onclick=\"trackAndOpenNews(event, 'Motley Fool', 'https://www.fool.com/investing/2022/10/31/apple-provides-further-proof-of-its-dominance-in-t/?source=eptyholnk0000202&amp;utm_source=yahoo-host&amp;utm_medium=feed&amp;utm_campaign=article');\" target=\"_blank\">Apple Provides Further Proof of Dominance in the Business World</a></div><div class=\"news-link-right\"><span style=\"color:#aa6dc0;font-size:9px\"> Motley Fool</span></div></div></td></tr>\n",
            "<tr><td align=\"right\" width=\"130\">02:30PM</td><td align=\"left\"><div class=\"news-link-container\"><div class=\"news-link-left\"><a class=\"tab-link-news\" href=\"https://finance.yahoo.com/news/alphabet-nasdaq-googl-microsoft-nasdaq-183029845.html\" onclick=\"trackAndOpenNews(event, 'Simply Wall St.', 'https://finance.yahoo.com/news/alphabet-nasdaq-googl-microsoft-nasdaq-183029845.html');\" target=\"_blank\">Alphabet (Nasdaq: GOOGL), Microsoft (Nasdaq: MSFT) and Other Tech Giants hit by Slowing Growth and Rising Costs  - Our Takes on Big Tech Earnings</a></div><div class=\"news-link-right\"><span style=\"color:#aa6dc0;font-size:9px\"> Simply Wall St.</span></div></div></td></tr>\n",
            "<tr><td align=\"right\" width=\"130\">01:41PM</td><td align=\"left\"><div class=\"news-link-container\"><div class=\"news-link-left\"><a class=\"tab-link-news\" href=\"https://www.ft.com/cms/s/0e8e2356-c54f-4e60-99e6-83d33db8484d,s01=1.html?ftcamp=traffic/partner/feed_headline/us_yahoo/auddev\" onclick=\"trackAndOpenNews(event, 'Financial Times', 'https://www.ft.com/cms/s/0e8e2356-c54f-4e60-99e6-83d33db8484d,s01=1.html?ftcamp=traffic/partner/feed_headline/us_yahoo/auddev');\" target=\"_blank\">Apple/China: intricate supply chain makes hanging up hard to do</a></div><div class=\"news-link-right\"><span style=\"color:#aa6dc0;font-size:9px\"> Financial Times</span></div></div></td></tr>\n",
            "<tr><td align=\"right\" width=\"130\">01:28PM</td><td align=\"left\"><div class=\"news-link-container\"><div class=\"news-link-left\"><a class=\"tab-link-news\" href=\"https://finance.yahoo.com/news/us-stocks-wall-st-drops-172838154.html\" onclick=\"trackAndOpenNews(event, 'Reuters', 'https://finance.yahoo.com/news/us-stocks-wall-st-drops-172838154.html');\" target=\"_blank\">US STOCKS-Wall St drops as focus shifts to Fed rate decision</a></div><div class=\"news-link-right\"><span style=\"color:#aa6dc0;font-size:9px\"> Reuters</span></div></div></td></tr>\n",
            "<tr><td align=\"right\" width=\"130\">01:20PM</td><td align=\"left\"><div class=\"news-link-container\"><div class=\"news-link-left\"><a class=\"tab-link-news\" href=\"https://www.marketwatch.com/story/apple-stock-dips-amid-questions-about-iphone-production-disruptions-at-foxconn-11667236849?siteid=yhoof2\" onclick=\"trackAndOpenNews(event, 'MarketWatch', 'https://www.marketwatch.com/story/apple-stock-dips-amid-questions-about-iphone-production-disruptions-at-foxconn-11667236849?siteid=yhoof2');\" target=\"_blank\">Apple stock dips amid questions about iPhone production disruptions at Foxconn</a></div><div class=\"news-link-right\"><span style=\"color:#aa6dc0;font-size:9px\"> MarketWatch</span></div></div></td></tr>\n",
            "<tr><td align=\"right\" width=\"130\">12:40PM</td><td align=\"left\"><div class=\"news-link-container\"><div class=\"news-link-left\"><a class=\"tab-link-news\" href=\"https://www.investors.com/how-to-invest/investors-corner/tech-stocks-a-buy-what-to-watch-in-apple-microsoft-intel-amazon-nvidia/?src=A00220\" onclick=\"trackAndOpenNews(event, 'Investor\\u0027s Business Daily', 'https://www.investors.com/how-to-invest/investors-corner/tech-stocks-a-buy-what-to-watch-in-apple-microsoft-intel-amazon-nvidia/?src=A00220');\" target=\"_blank\">Are Beaten-Down Tech Stocks A Buy? What To Watch In Apple, Microsoft, Intel, Amazon, Nvidia</a></div><div class=\"news-link-right\"><span style=\"color:#aa6dc0;font-size:9px\"> Investor's Business Daily</span></div></div></td></tr>\n",
            "<tr><td align=\"right\" width=\"130\">11:14AM</td><td align=\"left\"><div class=\"news-link-container\"><div class=\"news-link-left\"><a class=\"tab-link-news\" href=\"https://www.fool.com/investing/2022/10/31/this-industry-titan-buys-back-stock-hand-over-fist/?source=eptyholnk0000202&amp;utm_source=yahoo-host&amp;utm_medium=feed&amp;utm_campaign=article\" onclick=\"trackAndOpenNews(event, 'Motley Fool', 'https://www.fool.com/investing/2022/10/31/this-industry-titan-buys-back-stock-hand-over-fist/?source=eptyholnk0000202&amp;utm_source=yahoo-host&amp;utm_medium=feed&amp;utm_campaign=article');\" target=\"_blank\">This Industry Titan Is Buying Back Its Stock Hand Over Fist. Should Investors Follow?</a></div><div class=\"news-link-right\"><span style=\"color:#aa6dc0;font-size:9px\"> Motley Fool</span></div></div></td></tr>\n",
            "<tr><td align=\"right\" width=\"130\">11:10AM</td><td align=\"left\"><div class=\"news-link-container\"><div class=\"news-link-left\"><a class=\"tab-link-news\" href=\"https://finance.yahoo.com/news/apple-notches-best-day-since-151003915.html\" onclick=\"trackAndOpenNews(event, 'Zacks', 'https://finance.yahoo.com/news/apple-notches-best-day-since-151003915.html');\" target=\"_blank\">Apple Notches Best Day Since April 2020: 4 ETFs to Taste</a></div><div class=\"news-link-right\"><span style=\"color:#aa6dc0;font-size:9px\"> Zacks</span></div></div></td></tr>\n",
            "<tr><td align=\"right\" width=\"130\">10:42AM</td><td align=\"left\"><div class=\"news-link-container\"><div class=\"news-link-left\"><a class=\"tab-link-news\" href=\"https://finance.yahoo.com/news/us-stocks-wall-st-drops-144245284.html\" onclick=\"trackAndOpenNews(event, 'Reuters', 'https://finance.yahoo.com/news/us-stocks-wall-st-drops-144245284.html');\" target=\"_blank\">US STOCKS-Wall St drops as megacaps weigh amid Fed rate debate</a></div><div class=\"news-link-right\"><span style=\"color:#aa6dc0;font-size:9px\"> Reuters</span></div></div></td></tr>\n",
            "<tr><td align=\"right\" width=\"130\">10:36AM</td><td align=\"left\"><div class=\"news-link-container\"><div class=\"news-link-left\"><a class=\"tab-link-news\" href=\"https://finance.yahoo.com/news/chinese-workers-flee-covid-lockdown-143632744.html\" onclick=\"trackAndOpenNews(event, 'Fortune', 'https://finance.yahoo.com/news/chinese-workers-flee-covid-lockdown-143632744.html');\" target=\"_blank\">Chinese workers flee COVID lockdown at huge iPhone factory, potentially putting Apple in a bind as the holiday season draws near</a></div><div class=\"news-link-right\"><span style=\"color:#aa6dc0;font-size:9px\"> Fortune</span></div></div></td></tr>\n",
            "<tr><td align=\"right\" width=\"130\">10:29AM</td><td align=\"left\"><div class=\"news-link-container\"><div class=\"news-link-left\"><a class=\"tab-link-news\" href=\"https://www.marketwatch.com/story/apple-and-microsoft-market-caps-reached-their-largest-spread-on-record-at-roughly-teslas-entire-valuation-11667226567?siteid=yhoof2\" onclick=\"trackAndOpenNews(event, 'MarketWatch', 'https://www.marketwatch.com/story/apple-and-microsoft-market-caps-reached-their-largest-spread-on-record-at-roughly-teslas-entire-valuation-11667226567?siteid=yhoof2');\" target=\"_blank\">Apple and Microsoft market caps reached their largest spread on record  at roughly Teslas entire valuation</a></div><div class=\"news-link-right\"><span style=\"color:#aa6dc0;font-size:9px\"> MarketWatch</span></div></div></td></tr>\n",
            "<tr><td align=\"right\" width=\"130\">10:05AM</td><td align=\"left\"><div class=\"news-link-container\"><div class=\"news-link-left\"><a class=\"tab-link-news\" href=\"https://finance.yahoo.com/news/earnings-erase-350b-big-tech-140502735.html\" onclick=\"trackAndOpenNews(event, 'Zacks', 'https://finance.yahoo.com/news/earnings-erase-350b-big-tech-140502735.html');\" target=\"_blank\">Earnings Erase $350B From Big Tech: 5 ETFs With Strength</a></div><div class=\"news-link-right\"><span style=\"color:#aa6dc0;font-size:9px\"> Zacks</span></div></div></td></tr>\n",
            "<tr><td align=\"right\" width=\"130\">10:05AM</td><td align=\"left\"><div class=\"news-link-container\"><div class=\"news-link-left\"><a class=\"tab-link-news\" href=\"https://finance.yahoo.com/news/5-technology-stocks-poised-beat-140502126.html\" onclick=\"trackAndOpenNews(event, 'Zacks', 'https://finance.yahoo.com/news/5-technology-stocks-poised-beat-140502126.html');\" target=\"_blank\">5 Technology Stocks Poised to Beat Earnings Estimates in Q3</a></div><div class=\"news-link-right\"><span style=\"color:#aa6dc0;font-size:9px\"> Zacks</span></div></div></td></tr>\n",
            "<tr><td align=\"right\" width=\"130\">09:42AM</td><td align=\"left\"><div class=\"news-link-container\"><div class=\"news-link-left\"><a class=\"tab-link-news\" href=\"https://finance.yahoo.com/news/spotify-demands-apple-investigated-blocking-134254144.html\" onclick=\"trackAndOpenNews(event, 'The Telegraph', 'https://finance.yahoo.com/news/spotify-demands-apple-investigated-blocking-134254144.html');\" target=\"_blank\">Spotify demands Apple is investigated for blocking updates to its audiobooks streaming service</a></div><div class=\"news-link-right\"><span style=\"color:#aa6dc0;font-size:9px\"> The Telegraph</span></div></div></td></tr>\n",
            "<tr>\n",
            "<td align=\"right\" width=\"130\">09:41AM</td>\n",
            "<td align=\"left\" id=\"IC_D_3x8_3\"><span class=\"block text-3xs text-gray-500 leading-none\">Loading…</span></td>\n",
            "</tr>\n",
            "<tr><td align=\"right\" width=\"130\">09:41AM</td><td align=\"left\"><div class=\"news-link-container\"><div class=\"news-link-left\"><a class=\"tab-link-news\" href=\"https://www.fool.com/investing/2022/10/31/apple-price-changes-tell-investors-about-future/?source=eptyholnk0000202&amp;utm_source=yahoo-host&amp;utm_medium=feed&amp;utm_campaign=article\" onclick=\"trackAndOpenNews(event, 'Motley Fool', 'https://www.fool.com/investing/2022/10/31/apple-price-changes-tell-investors-about-future/?source=eptyholnk0000202&amp;utm_source=yahoo-host&amp;utm_medium=feed&amp;utm_campaign=article');\" target=\"_blank\">Apple's Latest Price Changes Tell Investors a Lot About the Future of the Company</a></div><div class=\"news-link-right\"><span style=\"color:#aa6dc0;font-size:9px\"> Motley Fool</span></div></div></td></tr>\n",
            "<tr><td align=\"right\" width=\"130\">09:37AM</td><td align=\"left\"><div class=\"news-link-container\"><div class=\"news-link-left\"><a class=\"tab-link-news\" href=\"https://www.wsj.com/articles/foxconn-to-shift-some-iphone-production-from-covid-hit-plant-to-other-sites-11667222723?siteid=yhoof2\" onclick=\"trackAndOpenNews(event, 'The Wall Street Journal', 'https://www.wsj.com/articles/foxconn-to-shift-some-iphone-production-from-covid-hit-plant-to-other-sites-11667222723?siteid=yhoof2');\" target=\"_blank\">Foxconn to Shift Some iPhone Production From Covid-Hit Plant to Other Sites</a></div><div class=\"news-link-right\"><span style=\"color:#aa6dc0;font-size:9px\"> The Wall Street Journal</span></div></div></td></tr>\n",
            "<tr><td align=\"right\" width=\"130\">09:30AM</td><td align=\"left\"><div class=\"news-link-container\"><div class=\"news-link-left\"><a class=\"tab-link-news\" href=\"https://www.investors.com/news/technology/5g-stocks-5g-wireless-stocks/?src=A00220\" onclick=\"trackAndOpenNews(event, 'Investor\\u0027s Business Daily', 'https://www.investors.com/news/technology/5g-stocks-5g-wireless-stocks/?src=A00220');\" target=\"_blank\">5G Stocks To Buy And Watch As Cloud Computing Plays Bigger Role</a></div><div class=\"news-link-right\"><span style=\"color:#aa6dc0;font-size:9px\"> Investor's Business Daily</span></div></div></td></tr>\n",
            "<tr><td align=\"right\" width=\"130\">09:00AM</td><td align=\"left\"><div class=\"news-link-container\"><div class=\"news-link-left\"><a class=\"tab-link-news\" href=\"https://finance.yahoo.com/news/apple-inc-aapl-trending-stock-130001172.html\" onclick=\"trackAndOpenNews(event, 'Zacks', 'https://finance.yahoo.com/news/apple-inc-aapl-trending-stock-130001172.html');\" target=\"_blank\">Apple Inc. (AAPL) Is a Trending Stock: Facts to Know Before Betting on It</a></div><div class=\"news-link-right\"><span style=\"color:#aa6dc0;font-size:9px\"> Zacks</span></div></div></td></tr>\n",
            "<tr><td align=\"right\" width=\"130\">08:05AM</td><td align=\"left\"><div class=\"news-link-container\"><div class=\"news-link-left\"><a class=\"tab-link-news\" href=\"https://finance.yahoo.com/news/us-earnings-watch-pfizer-qualcomm-140500572.html\" onclick=\"trackAndOpenNews(event, 'Bloomberg', 'https://finance.yahoo.com/news/us-earnings-watch-pfizer-qualcomm-140500572.html');\" target=\"_blank\">US Earnings to Watch: Pfizer, Qualcomm, CVS, Peloton, Coinbase, Uber</a></div><div class=\"news-link-right\"><span style=\"color:#aa6dc0;font-size:9px\"> Bloomberg</span></div></div></td></tr>\n",
            "<tr><td align=\"right\" width=\"130\">08:03AM</td><td align=\"left\"><div class=\"news-link-container\"><div class=\"news-link-left\"><a class=\"tab-link-news\" href=\"https://finance.yahoo.com/news/amazon-meta-alphabet-microsoft-part-120312798.html\" onclick=\"trackAndOpenNews(event, 'Zacks', 'https://finance.yahoo.com/news/amazon-meta-alphabet-microsoft-part-120312798.html');\" target=\"_blank\">Amazon, Meta, Alphabet and Microsoft are part of Zacks Earnings Preview</a></div><div class=\"news-link-right\"><span style=\"color:#aa6dc0;font-size:9px\"> Zacks</span></div></div></td></tr>\n",
            "<tr><td align=\"right\" width=\"130\">07:10AM</td><td align=\"left\"><div class=\"news-link-container\"><div class=\"news-link-left\"><a class=\"tab-link-news\" href=\"https://realmoney.thestreet.com/investing/stagnant-economy-week-that-was-fed-slowdown-earnings-2-notes-of-caution-16107050?puc=yahoo&amp;cm_ven=YAHOO\" onclick=\"trackAndOpenNews(event, 'TheStreet.com', 'https://realmoney.thestreet.com/investing/stagnant-economy-week-that-was-fed-slowdown-earnings-2-notes-of-caution-16107050?puc=yahoo&amp;cm_ven=YAHOO');\" target=\"_blank\">Stagnant Economy, Week That Was, Fed Slowdown? Earnings, 2 Notes of Caution</a></div><div class=\"news-link-right\"><span style=\"color:#aa6dc0;font-size:9px\"> TheStreet.com</span></div></div></td></tr>\n",
            "<tr><td align=\"right\" width=\"130\">06:10AM</td><td align=\"left\"><div class=\"news-link-container\"><div class=\"news-link-left\"><a class=\"tab-link-news\" href=\"https://www.fool.com/investing/2022/10/31/3-dividend-paying-tech-stocks-to-buy-right-now/?source=eptyholnk0000202&amp;utm_source=yahoo-host&amp;utm_medium=feed&amp;utm_campaign=article\" onclick=\"trackAndOpenNews(event, 'Motley Fool', 'https://www.fool.com/investing/2022/10/31/3-dividend-paying-tech-stocks-to-buy-right-now/?source=eptyholnk0000202&amp;utm_source=yahoo-host&amp;utm_medium=feed&amp;utm_campaign=article');\" target=\"_blank\">3 Dividend-Paying Tech Stocks to Buy Right Now</a></div><div class=\"news-link-right\"><span style=\"color:#aa6dc0;font-size:9px\"> Motley Fool</span></div></div></td></tr>\n",
            "<tr><td align=\"right\" width=\"130\">06:00AM</td><td align=\"left\"><div class=\"news-link-container\"><div class=\"news-link-left\"><a class=\"tab-link-news\" href=\"https://www.bizjournals.com/triangle/news/2022/10/31/cary-development-apple-campus-medical-office.html?utm_source=sy&amp;utm_medium=nsyp&amp;utm_campaign=yh\" onclick=\"trackAndOpenNews(event, 'American City Business Journals', 'https://www.bizjournals.com/triangle/news/2022/10/31/cary-development-apple-campus-medical-office.html?utm_source=sy&amp;utm_medium=nsyp&amp;utm_campaign=yh');\" target=\"_blank\">Apple campus attracts more Cary development</a></div><div class=\"news-link-right\"><span style=\"color:#aa6dc0;font-size:9px\"> American City Business Journals</span></div></div></td></tr>\n",
            "<tr><td align=\"right\" width=\"130\">05:56AM</td><td align=\"left\"><div class=\"news-link-container\"><div class=\"news-link-left\"><a class=\"tab-link-news\" href=\"https://www.ft.com/cms/s/26dbb37d-ad33-4691-a437-caeba7b2a5c9,s01=1.html?ftcamp=traffic/partner/feed_headline/us_yahoo/auddev\" onclick=\"trackAndOpenNews(event, 'Financial Times', 'https://www.ft.com/cms/s/26dbb37d-ad33-4691-a437-caeba7b2a5c9,s01=1.html?ftcamp=traffic/partner/feed_headline/us_yahoo/auddev');\" target=\"_blank\">iPhone assembler Foxconn shifts production from China Covid-hit plant</a></div><div class=\"news-link-right\"><span style=\"color:#aa6dc0;font-size:9px\"> Financial Times</span></div></div></td></tr>\n",
            "<tr><td align=\"right\" width=\"130\">05:55AM</td><td align=\"left\"><div class=\"news-link-container\"><div class=\"news-link-left\"><a class=\"tab-link-news\" href=\"https://www.thestreet.com/markets/apple-stock-slips-as-key-china-iphone-factory-hit-by-covid-curbs?puc=yahoo&amp;cm_ven=YAHOO\" onclick=\"trackAndOpenNews(event, 'TheStreet.com', 'https://www.thestreet.com/markets/apple-stock-slips-as-key-china-iphone-factory-hit-by-covid-curbs?puc=yahoo&amp;cm_ven=YAHOO');\" target=\"_blank\">Apple Stock Slips As Key China iPhone Factory Hit By Covid Outbreak Reports</a></div><div class=\"news-link-right\"><span style=\"color:#aa6dc0;font-size:9px\"> TheStreet.com</span></div></div></td></tr>\n",
            "<tr><td align=\"right\" width=\"130\">05:25AM</td><td align=\"left\"><div class=\"news-link-container\"><div class=\"news-link-left\"><a class=\"tab-link-news\" href=\"https://finance.yahoo.com/news/iphone-maker-lifts-wages-preps-092556016.html\" onclick=\"trackAndOpenNews(event, 'Bloomberg', 'https://finance.yahoo.com/news/iphone-maker-lifts-wages-preps-092556016.html');\" target=\"_blank\">IPhone Maker Lifts Wages, Preps Backup for Covid-Hit China Plant</a></div><div class=\"news-link-right\"><span style=\"color:#aa6dc0;font-size:9px\"> Bloomberg</span></div></div></td></tr>\n",
            "<tr><td align=\"right\" width=\"130\">04:43AM</td><td align=\"left\"><div class=\"news-link-container\"><div class=\"news-link-left\"><a class=\"tab-link-news\" href=\"https://finance.yahoo.com/news/wrapup-1-china-covid-curbs-084357968.html\" onclick=\"trackAndOpenNews(event, 'Reuters', 'https://finance.yahoo.com/news/wrapup-1-china-covid-curbs-084357968.html');\" target=\"_blank\">WRAPUP 2-China COVID curbs hit iPhone output, shut Shanghai Disney</a></div><div class=\"news-link-right\"><span style=\"color:#aa6dc0;font-size:9px\"> Reuters</span></div></div></td></tr>\n",
            "<tr><td align=\"right\" width=\"130\">03:00AM</td><td align=\"left\"><div class=\"news-link-container\"><div class=\"news-link-left\"><a class=\"tab-link-news\" href=\"https://www.barrons.com/articles/apple-stock-block-estee-lauder-51666980209?siteid=yhoof2\" onclick=\"trackAndOpenNews(event, 'Barrons.com', 'https://www.barrons.com/articles/apple-stock-block-estee-lauder-51666980209?siteid=yhoof2');\" target=\"_blank\">Big Pension Sells Apple, Block, and Estée Lauder Stock. Heres What It Bought.</a></div><div class=\"news-link-right\"><span style=\"color:#aa6dc0;font-size:9px\"> Barrons.com</span></div></div></td></tr>\n",
            "<tr><td align=\"right\" width=\"130\">02:52AM</td><td align=\"left\"><div class=\"news-link-container\"><div class=\"news-link-left\"><a class=\"tab-link-news\" href=\"https://finance.yahoo.com/news/tesla-glencore-talks-russia-grain-065217717.html\" onclick=\"trackAndOpenNews(event, 'Investing.com', 'https://finance.yahoo.com/news/tesla-glencore-talks-russia-grain-065217717.html');\" target=\"_blank\">Tesla-Glencore Talks, Russia Grain Deal, Lula Victory - What's Moving Markets</a></div><div class=\"news-link-right\"><span style=\"color:#aa6dc0;font-size:9px\"> Investing.com</span></div></div></td></tr>\n",
            "<tr><td align=\"right\" width=\"130\">02:41AM</td><td align=\"left\"><div class=\"news-link-container\"><div class=\"news-link-left\"><a class=\"tab-link-news\" href=\"https://finance.yahoo.com/news/china-iphone-sales-drop-may-064129692.html\" onclick=\"trackAndOpenNews(event, 'Bloomberg', 'https://finance.yahoo.com/news/china-iphone-sales-drop-may-064129692.html');\" target=\"_blank\">Chinas IPhone Sales Drop May Mean Bigger Problems for Apple</a></div><div class=\"news-link-right\"><span style=\"color:#aa6dc0;font-size:9px\"> Bloomberg</span></div></div></td></tr>\n",
            "<tr><td align=\"right\" width=\"130\">12:05AM</td><td align=\"left\"><div class=\"news-link-container\"><div class=\"news-link-left\"><a class=\"tab-link-news\" href=\"https://finance.yahoo.com/news/iphone-assembler-foxconn-moves-limit-015440423.html\" onclick=\"trackAndOpenNews(event, 'Bloomberg', 'https://finance.yahoo.com/news/iphone-assembler-foxconn-moves-limit-015440423.html');\" target=\"_blank\">iPhone Assembler Foxconn Moves to Limit Plant Disruption as Shares Slide</a></div><div class=\"news-link-right\"><span style=\"color:#aa6dc0;font-size:9px\"> Bloomberg</span></div></div></td></tr>\n",
            "<tr><td align=\"right\" width=\"130\">Oct-30-22 10:00PM</td><td align=\"left\"><div class=\"news-link-container\"><div class=\"news-link-left\"><a class=\"tab-link-news\" href=\"https://www.fool.com/investing/2022/10/30/after-a-horrifying-week-for-stocks-big-tech-could/?source=eptyholnk0000202&amp;utm_source=yahoo-host&amp;utm_medium=feed&amp;utm_campaign=article\" onclick=\"trackAndOpenNews(event, 'Motley Fool', 'https://www.fool.com/investing/2022/10/30/after-a-horrifying-week-for-stocks-big-tech-could/?source=eptyholnk0000202&amp;utm_source=yahoo-host&amp;utm_medium=feed&amp;utm_campaign=article');\" target=\"_blank\">After a Horrifying Week for Stocks, Big Tech Could be on its Last Breath</a></div><div class=\"news-link-right\"><span style=\"color:#aa6dc0;font-size:9px\"> Motley Fool</span></div></div></td></tr>\n",
            "<tr><td align=\"right\" width=\"130\">09:59PM</td><td align=\"left\"><div class=\"news-link-container\"><div class=\"news-link-left\"><a class=\"tab-link-news\" href=\"https://finance.yahoo.com/news/foxconn-covid-woes-may-hit-015917087.html\" onclick=\"trackAndOpenNews(event, 'Reuters', 'https://finance.yahoo.com/news/foxconn-covid-woes-may-hit-015917087.html');\" target=\"_blank\">Output of Apple iPhones at major China plant could fall 30% amid COVID curbs -source</a></div><div class=\"news-link-right\"><span style=\"color:#aa6dc0;font-size:9px\"> Reuters</span></div></div></td></tr>\n",
            "<tr><td align=\"right\" width=\"130\">04:30PM</td><td align=\"left\"><div class=\"news-link-container\"><div class=\"news-link-left\"><a class=\"tab-link-news\" href=\"https://finance.yahoo.com/news/20-most-admired-companies-world-203040991.html\" onclick=\"trackAndOpenNews(event, 'Insider Monkey', 'https://finance.yahoo.com/news/20-most-admired-companies-world-203040991.html');\" target=\"_blank\">20 Most Admired Companies in the World in 2022</a></div><div class=\"news-link-right\"><span style=\"color:#aa6dc0;font-size:9px\"> Insider Monkey</span></div></div></td></tr>\n",
            "<tr><td align=\"right\" width=\"130\">10:59AM</td><td align=\"left\"><div class=\"news-link-container\"><div class=\"news-link-left\"><a class=\"tab-link-news\" href=\"https://www.thestreet.com/retail/target-apple-holiday-savings-partner-shop-retail?puc=yahoo&amp;cm_ven=YAHOO\" onclick=\"trackAndOpenNews(event, 'TheStreet.com', 'https://www.thestreet.com/retail/target-apple-holiday-savings-partner-shop-retail?puc=yahoo&amp;cm_ven=YAHOO');\" target=\"_blank\">Target Gives Apple Fans a Holiday Gift</a></div><div class=\"news-link-right\"><span style=\"color:#aa6dc0;font-size:9px\"> TheStreet.com</span></div></div></td></tr>\n",
            "<tr><td align=\"right\" width=\"130\">06:59AM</td><td align=\"left\"><div class=\"news-link-container\"><div class=\"news-link-left\"><a class=\"tab-link-news\" href=\"https://www.ft.com/cms/s/7df7443c-226b-455a-8424-cc6c4a15787a,s01=1.html?ftcamp=traffic/partner/feed_headline/us_yahoo/auddev\" onclick=\"trackAndOpenNews(event, 'Financial Times', 'https://www.ft.com/cms/s/7df7443c-226b-455a-8424-cc6c4a15787a,s01=1.html?ftcamp=traffic/partner/feed_headline/us_yahoo/auddev');\" target=\"_blank\">Workers flee Chinas Covid restrictions at Foxconns largest iPhone factory</a></div><div class=\"news-link-right\"><span style=\"color:#aa6dc0;font-size:9px\"> Financial Times</span></div></div></td></tr>\n",
            "<tr><td align=\"right\" width=\"130\">06:36AM</td><td align=\"left\"><div class=\"news-link-container\"><div class=\"news-link-left\"><a class=\"tab-link-news\" href=\"https://finance.yahoo.com/news/workers-leave-biggest-iphone-plant-103613020.html\" onclick=\"trackAndOpenNews(event, 'Bloomberg', 'https://finance.yahoo.com/news/workers-leave-biggest-iphone-plant-103613020.html');\" target=\"_blank\">Workers Leave Biggest IPhone Plant to Escape Covid Curbs</a></div><div class=\"news-link-right\"><span style=\"color:#aa6dc0;font-size:9px\"> Bloomberg</span></div></div></td></tr>\n",
            "<tr><td align=\"right\" width=\"130\">06:32AM</td><td align=\"left\"><div class=\"news-link-container\"><div class=\"news-link-left\"><a class=\"tab-link-news\" href=\"https://www.wsj.com/articles/inside-a-chinese-iphone-plant-foxconn-grapples-with-covid-chaos-11667097816?siteid=yhoof2\" onclick=\"trackAndOpenNews(event, 'The Wall Street Journal', 'https://www.wsj.com/articles/inside-a-chinese-iphone-plant-foxconn-grapples-with-covid-chaos-11667097816?siteid=yhoof2');\" target=\"_blank\">Inside a Chinese iPhone Plant, Foxconn Grapples With Covid Chaos</a></div><div class=\"news-link-right\"><span style=\"color:#aa6dc0;font-size:9px\"> The Wall Street Journal</span></div></div></td></tr>\n",
            "<tr><td align=\"right\" width=\"130\">05:30AM</td><td align=\"left\"><div class=\"news-link-container\"><div class=\"news-link-left\"><a class=\"tab-link-news\" href=\"https://www.wsj.com/articles/rate-squeeze-punishes-once-triumphant-tech-stocks-11667082068?siteid=yhoof2\" onclick=\"trackAndOpenNews(event, 'The Wall Street Journal', 'https://www.wsj.com/articles/rate-squeeze-punishes-once-triumphant-tech-stocks-11667082068?siteid=yhoof2');\" target=\"_blank\">Rate Squeeze Punishes Once-Triumphant Tech Stocks</a></div><div class=\"news-link-right\"><span style=\"color:#aa6dc0;font-size:9px\"> The Wall Street Journal</span></div></div></td></tr>\n",
            "<tr><td align=\"right\" width=\"130\">Oct-29-22 11:34AM</td><td align=\"left\"><div class=\"news-link-container\"><div class=\"news-link-left\"><a class=\"tab-link-news\" href=\"https://www.fool.com/investing/2022/10/29/company-report-roundup-tesla-tractor-supply-americ/?source=eptyholnk0000202&amp;utm_source=yahoo-host&amp;utm_medium=feed&amp;utm_campaign=article\" onclick=\"trackAndOpenNews(event, 'Motley Fool', 'https://www.fool.com/investing/2022/10/29/company-report-roundup-tesla-tractor-supply-americ/?source=eptyholnk0000202&amp;utm_source=yahoo-host&amp;utm_medium=feed&amp;utm_campaign=article');\" target=\"_blank\">Company Report Roundup: Tesla, Tractor Supply, American Express, and More</a></div><div class=\"news-link-right\"><span style=\"color:#aa6dc0;font-size:9px\"> Motley Fool</span></div></div></td></tr>\n",
            "<tr><td align=\"right\" width=\"130\">09:00AM</td><td align=\"left\"><div class=\"news-link-container\"><div class=\"news-link-left\"><a class=\"tab-link-news\" href=\"https://www.wsj.com/articles/computer-technology-ambient-computing-11666992784?siteid=yhoof2\" onclick=\"trackAndOpenNews(event, 'The Wall Street Journal', 'https://www.wsj.com/articles/computer-technology-ambient-computing-11666992784?siteid=yhoof2');\" target=\"_blank\">Why the Future of the Computer Is Everywhere, All the Time</a></div><div class=\"news-link-right\"><span style=\"color:#aa6dc0;font-size:9px\"> The Wall Street Journal</span></div></div></td></tr>\n",
            "<tr><td align=\"right\" width=\"130\">08:00AM</td><td align=\"left\"><div class=\"news-link-container\"><div class=\"news-link-left\"><a class=\"tab-link-news\" href=\"https://finance.yahoo.com/news/insiders-apple-inc-nasdaq-aapl-120054441.html\" onclick=\"trackAndOpenNews(event, 'Simply Wall St.', 'https://finance.yahoo.com/news/insiders-apple-inc-nasdaq-aapl-120054441.html');\" target=\"_blank\">Insiders at Apple Inc. (NASDAQ:AAPL) sold US$1.4m worth of stock, a potential red flag that needs to be monitored</a></div><div class=\"news-link-right\"><span style=\"color:#aa6dc0;font-size:9px\"> Simply Wall St.</span></div></div></td></tr>\n",
            "<tr><td align=\"right\" width=\"130\">07:00AM</td><td align=\"left\"><div class=\"news-link-container\"><div class=\"news-link-left\"><a class=\"tab-link-news\" href=\"https://www.fool.com/investing/2022/10/29/what-to-watch-as-the-big-tech-companies-report-ear/?source=eptyholnk0000202&amp;utm_source=yahoo-host&amp;utm_medium=feed&amp;utm_campaign=article\" onclick=\"trackAndOpenNews(event, 'Motley Fool', 'https://www.fool.com/investing/2022/10/29/what-to-watch-as-the-big-tech-companies-report-ear/?source=eptyholnk0000202&amp;utm_source=yahoo-host&amp;utm_medium=feed&amp;utm_campaign=article');\" target=\"_blank\">What to Watch as the Big Tech Companies Report Earnings</a></div><div class=\"news-link-right\"><span style=\"color:#aa6dc0;font-size:9px\"> Motley Fool</span></div></div></td></tr>\n",
            "<tr><td align=\"right\" width=\"130\">05:42AM</td><td align=\"left\"><div class=\"news-link-container\"><div class=\"news-link-left\"><a class=\"tab-link-news\" href=\"https://www.fool.com/investing/2022/10/29/apples-controversial-nft-policy-mean-for-ethereum/?source=eptyholnk0000202&amp;utm_source=yahoo-host&amp;utm_medium=feed&amp;utm_campaign=article\" onclick=\"trackAndOpenNews(event, 'Motley Fool', 'https://www.fool.com/investing/2022/10/29/apples-controversial-nft-policy-mean-for-ethereum/?source=eptyholnk0000202&amp;utm_source=yahoo-host&amp;utm_medium=feed&amp;utm_campaign=article');\" target=\"_blank\">What Does Apple's Controversial NFT Policy Mean for Ethereum and Solana?</a></div><div class=\"news-link-right\"><span style=\"color:#aa6dc0;font-size:9px\"> Motley Fool</span></div></div></td></tr>\n",
            "<tr><td align=\"right\" width=\"130\">Oct-28-22 06:44PM</td><td align=\"left\"><div class=\"news-link-container\"><div class=\"news-link-left\"><a class=\"tab-link-news\" href=\"https://finance.yahoo.com/news/making-sense-big-tech-earnings-224410908.html\" onclick=\"trackAndOpenNews(event, 'Zacks', 'https://finance.yahoo.com/news/making-sense-big-tech-earnings-224410908.html');\" target=\"_blank\">Making Sense of Big Tech Earnings After Amazon and Meta Tumble</a></div><div class=\"news-link-right\"><span style=\"color:#aa6dc0;font-size:9px\"> Zacks</span> <span class=\"body-table-news-gain\">+7.56%</span></div></div></td></tr>\n",
            "<tr><td align=\"right\" width=\"130\">06:04PM</td><td align=\"left\"><div class=\"news-link-container\"><div class=\"news-link-left\"><a class=\"tab-link-news\" href=\"https://aap.thestreet.com/story/16106891/1/weekly-roundup.html\" onclick=\"trackAndOpenNews(event, 'TheStreet.com', 'https://aap.thestreet.com/story/16106891/1/weekly-roundup.html');\" target=\"_blank\">Weekly Roundup</a></div><div class=\"news-link-right\"><span style=\"color:#aa6dc0;font-size:9px\"> TheStreet.com</span></div></div></td></tr>\n",
            "<tr><td align=\"right\" width=\"130\">06:00PM</td><td align=\"left\"><div class=\"news-link-container\"><div class=\"news-link-left\"><a class=\"tab-link-news\" href=\"https://www.fool.com/investing/2022/10/28/why-apple-stock-soared-today/?source=eptyholnk0000202&amp;utm_source=yahoo-host&amp;utm_medium=feed&amp;utm_campaign=article\" onclick=\"trackAndOpenNews(event, 'Motley Fool', 'https://www.fool.com/investing/2022/10/28/why-apple-stock-soared-today/?source=eptyholnk0000202&amp;utm_source=yahoo-host&amp;utm_medium=feed&amp;utm_campaign=article');\" target=\"_blank\">Here's Why Apple Stock Soared Today</a></div><div class=\"news-link-right\"><span style=\"color:#aa6dc0;font-size:9px\"> Motley Fool</span></div></div></td></tr>\n",
            "<tr><td align=\"right\" width=\"130\">05:35PM</td><td align=\"left\"><div class=\"news-link-container\"><div class=\"news-link-left\"><a class=\"tab-link-news\" href=\"https://www.fool.com/investing/2022/10/28/2-stock-winners-topped-apples-big-gains-friday/?source=eptyholnk0000202&amp;utm_source=yahoo-host&amp;utm_medium=feed&amp;utm_campaign=article\" onclick=\"trackAndOpenNews(event, 'Motley Fool', 'https://www.fool.com/investing/2022/10/28/2-stock-winners-topped-apples-big-gains-friday/?source=eptyholnk0000202&amp;utm_source=yahoo-host&amp;utm_medium=feed&amp;utm_campaign=article');\" target=\"_blank\">These 2 Stock Winners Topped Apple's Big Gains Friday</a></div><div class=\"news-link-right\"><span style=\"color:#aa6dc0;font-size:9px\"> Motley Fool</span></div></div></td></tr>\n",
            "<tr><td align=\"right\" width=\"130\">04:55PM</td><td align=\"left\"><div class=\"news-link-container\"><div class=\"news-link-left\"><a class=\"tab-link-news\" href=\"https://www.investors.com/news/warren-buffett-stocks-berkshire-holdings-soared-besides-apple/?src=A00220\" onclick=\"trackAndOpenNews(event, 'Investor\\u0027s Business Daily', 'https://www.investors.com/news/warren-buffett-stocks-berkshire-holdings-soared-besides-apple/?src=A00220');\" target=\"_blank\">Warren Buffett Stocks: Two Big Holdings Soared This Week  Besides Apple</a></div><div class=\"news-link-right\"><span style=\"color:#aa6dc0;font-size:9px\"> Investor's Business Daily</span></div></div></td></tr>\n",
            "<tr><td align=\"right\" width=\"130\">04:28PM</td><td align=\"left\"><div class=\"news-link-container\"><div class=\"news-link-left\"><a class=\"tab-link-news\" href=\"https://finance.yahoo.com/video/companies-bullish-stock-buyback-programs-202855501.html\" onclick=\"trackAndOpenNews(event, 'Yahoo Finance Video', 'https://finance.yahoo.com/video/companies-bullish-stock-buyback-programs-202855501.html');\" target=\"_blank\">Which companies are bullish on their stock buyback programs ahead of 2023 tax law</a></div><div class=\"news-link-right\"><span style=\"color:#aa6dc0;font-size:9px\"> Yahoo Finance Video</span></div></div></td></tr>\n",
            "<tr><td align=\"right\" width=\"130\">04:28PM</td><td align=\"left\"><div class=\"news-link-container\"><div class=\"news-link-left\"><a class=\"tab-link-news\" href=\"https://finance.yahoo.com/news/us-stocks-wall-street-surges-202811494.html\" onclick=\"trackAndOpenNews(event, 'Reuters', 'https://finance.yahoo.com/news/us-stocks-wall-street-surges-202811494.html');\" target=\"_blank\">US STOCKS-Wall Street surges to sharply higher close ahead of Fed week</a></div><div class=\"news-link-right\"><span style=\"color:#aa6dc0;font-size:9px\"> Reuters</span></div></div></td></tr>\n",
            "<tr><td align=\"right\" width=\"130\">04:22PM</td><td align=\"left\"><div class=\"news-link-container\"><div class=\"news-link-left\"><a class=\"tab-link-news\" href=\"https://finance.yahoo.com/news/big-tech-stocks-lose-400-190002332.html\" onclick=\"trackAndOpenNews(event, 'Bloomberg', 'https://finance.yahoo.com/news/big-tech-stocks-lose-400-190002332.html');\" target=\"_blank\">Big-Tech Stocks Lose $400 Billion  And Theyre Still Expensive</a></div><div class=\"news-link-right\"><span style=\"color:#aa6dc0;font-size:9px\"> Bloomberg</span></div></div></td></tr>\n",
            "<tr><td align=\"right\" width=\"130\">04:22PM</td><td align=\"left\"><div class=\"news-link-container\"><div class=\"news-link-left\"><a class=\"tab-link-news\" href=\"https://finance.yahoo.com/news/apple-only-big-tech-consolation-151545595.html\" onclick=\"trackAndOpenNews(event, 'Bloomberg', 'https://finance.yahoo.com/news/apple-only-big-tech-consolation-151545595.html');\" target=\"_blank\">Apple Is the Only Big Tech Consolation in Wild $477 Billion Rout</a></div><div class=\"news-link-right\"><span style=\"color:#aa6dc0;font-size:9px\"> Bloomberg</span></div></div></td></tr>\n",
            "<tr><td align=\"right\" width=\"130\">04:16PM</td><td align=\"left\"><div class=\"news-link-container\"><div class=\"news-link-left\"><a class=\"tab-link-news\" href=\"https://www.wsj.com/articles/apples-high-note-clears-a-low-tech-bar-11666973775?siteid=yhoof2\" onclick=\"trackAndOpenNews(event, 'The Wall Street Journal', 'https://www.wsj.com/articles/apples-high-note-clears-a-low-tech-bar-11666973775?siteid=yhoof2');\" target=\"_blank\">Apples High Note Clears a Low Tech Bar</a></div><div class=\"news-link-right\"><span style=\"color:#aa6dc0;font-size:9px\"> The Wall Street Journal</span></div></div></td></tr>\n",
            "<tr><td align=\"right\" width=\"130\">04:14PM</td><td align=\"left\"><div class=\"news-link-container\"><div class=\"news-link-left\"><a class=\"tab-link-news\" href=\"https://www.investors.com/news/technology/apple-stock-iphone-maker-warns-of-holiday-slowdown/?src=A00220\" onclick=\"trackAndOpenNews(event, 'Investor\\u0027s Business Daily', 'https://www.investors.com/news/technology/apple-stock-iphone-maker-warns-of-holiday-slowdown/?src=A00220');\" target=\"_blank\">Apple Warns Of Holiday Sales Slowdown, Forecasts Big Drop In Mac Business</a></div><div class=\"news-link-right\"><span style=\"color:#aa6dc0;font-size:9px\"> Investor's Business Daily</span></div></div></td></tr>\n",
            "<tr><td align=\"right\" width=\"130\">04:11PM</td><td align=\"left\"><div class=\"news-link-container\"><div class=\"news-link-left\"><a class=\"tab-link-news\" href=\"https://www.barrons.com/articles/apple-earnings-stock-value-51666987800?siteid=yhoof2\" onclick=\"trackAndOpenNews(event, 'Barrons.com', 'https://www.barrons.com/articles/apple-earnings-stock-value-51666987800?siteid=yhoof2');\" target=\"_blank\">Apple Had a Good Day. It Gets Tougher From Here.</a></div><div class=\"news-link-right\"><span style=\"color:#aa6dc0;font-size:9px\"> Barrons.com</span></div></div></td></tr>\n",
            "<tr><td align=\"right\" width=\"130\">04:09PM</td><td align=\"left\"><div class=\"news-link-container\"><div class=\"news-link-left\"><a class=\"tab-link-news\" href=\"https://finance.yahoo.com/news/apple-dodges-tech-rout-even-133557075.html\" onclick=\"trackAndOpenNews(event, 'Bloomberg', 'https://finance.yahoo.com/news/apple-dodges-tech-rout-even-133557075.html');\" target=\"_blank\">Apple Dodges Tech Rout, Even While Warning of Holiday Slowdown</a></div><div class=\"news-link-right\"><span style=\"color:#aa6dc0;font-size:9px\"> Bloomberg</span></div></div></td></tr>\n",
            "<tr><td align=\"right\" width=\"130\">04:00PM</td><td align=\"left\"><div class=\"news-link-container\"><div class=\"news-link-left\"><a class=\"tab-link-news\" href=\"https://finance.yahoo.com/news/us-stocks-wall-street-surges-200019063.html\" onclick=\"trackAndOpenNews(event, 'Reuters', 'https://finance.yahoo.com/news/us-stocks-wall-street-surges-200019063.html');\" target=\"_blank\">US STOCKS-Wall Street surges at end of volatile week ahead of Fed meeting</a></div><div class=\"news-link-right\"><span style=\"color:#aa6dc0;font-size:9px\"> Reuters</span></div></div></td></tr>\n",
            "<tr><td align=\"right\" width=\"130\">03:59PM</td><td align=\"left\"><div class=\"news-link-container\"><div class=\"news-link-left\"><a class=\"tab-link-news\" href=\"https://www.fool.com/investing/2022/10/28/nvidia-advanced-micro-devices-and-skyworks-rose/?source=eptyholnk0000202&amp;utm_source=yahoo-host&amp;utm_medium=feed&amp;utm_campaign=article\" onclick=\"trackAndOpenNews(event, 'Motley Fool', 'https://www.fool.com/investing/2022/10/28/nvidia-advanced-micro-devices-and-skyworks-rose/?source=eptyholnk0000202&amp;utm_source=yahoo-host&amp;utm_medium=feed&amp;utm_campaign=article');\" target=\"_blank\">Why Shares of Nvidia, AMD, and Skyworks Are Rallying Today</a></div><div class=\"news-link-right\"><span style=\"color:#aa6dc0;font-size:9px\"> Motley Fool</span></div></div></td></tr>\n",
            "<tr><td align=\"right\" width=\"130\">03:30PM</td><td align=\"left\"><div class=\"news-link-container\"><div class=\"news-link-left\"><a class=\"tab-link-news\" href=\"https://www.marketwatch.com/story/a-3-trillion-loss-big-techs-horrible-year-is-getting-worse-11666985436?siteid=yhoof2\" onclick=\"trackAndOpenNews(event, 'MarketWatch', 'https://www.marketwatch.com/story/a-3-trillion-loss-big-techs-horrible-year-is-getting-worse-11666985436?siteid=yhoof2');\" target=\"_blank\">A $3 trillion loss: Big Techs horrible year is getting worse</a></div><div class=\"news-link-right\"><span style=\"color:#aa6dc0;font-size:9px\"> MarketWatch</span></div></div></td></tr>\n",
            "<tr><td align=\"right\" width=\"130\">03:26PM</td><td align=\"left\"><div class=\"news-link-container\"><div class=\"news-link-left\"><a class=\"tab-link-news\" href=\"https://www.barrons.com/articles/apples-stock-buyback-history-51666979835?siteid=yhoof2\" onclick=\"trackAndOpenNews(event, 'Barrons.com', 'https://www.barrons.com/articles/apples-stock-buyback-history-51666979835?siteid=yhoof2');\" target=\"_blank\">Apples Stock Buyback Pace Hits Record $25.2 Billion</a></div><div class=\"news-link-right\"><span style=\"color:#aa6dc0;font-size:9px\"> Barrons.com</span></div></div></td></tr>\n",
            "<tr><td align=\"right\" width=\"130\">03:06PM</td><td align=\"left\"><div class=\"news-link-container\"><div class=\"news-link-left\"><a class=\"tab-link-news\" href=\"https://www.ft.com/cms/s/0abf4840-2f5a-4eae-8414-1dfda77750b0,s01=1.html?ftcamp=traffic/partner/feed_headline/us_yahoo/auddev\" onclick=\"trackAndOpenNews(event, 'Financial Times', 'https://www.ft.com/cms/s/0abf4840-2f5a-4eae-8414-1dfda77750b0,s01=1.html?ftcamp=traffic/partner/feed_headline/us_yahoo/auddev');\" target=\"_blank\">Who killed the social media ad boom?</a></div><div class=\"news-link-right\"><span style=\"color:#aa6dc0;font-size:9px\"> Financial Times</span></div></div></td></tr>\n",
            "<tr><td align=\"right\" width=\"130\">03:00PM</td><td align=\"left\"><div class=\"news-link-container\"><div class=\"news-link-left\"><a class=\"tab-link-news\" href=\"https://finance.yahoo.com/news/top-10-gainers-friday-190024931.html\" onclick=\"trackAndOpenNews(event, 'Insider Monkey', 'https://finance.yahoo.com/news/top-10-gainers-friday-190024931.html');\" target=\"_blank\">Top 10 Gainers on Friday</a></div><div class=\"news-link-right\"><span style=\"color:#aa6dc0;font-size:9px\"> Insider Monkey</span></div></div></td></tr>\n",
            "<tr><td align=\"right\" width=\"130\">02:55PM</td><td align=\"left\"><div class=\"news-link-container\"><div class=\"news-link-left\"><a class=\"tab-link-news\" href=\"https://finance.yahoo.com/news/musk-twitter-deal-caps-off-a-brutal-week-for-tech-185513082.html\" onclick=\"trackAndOpenNews(event, 'Yahoo Finance', 'https://finance.yahoo.com/news/musk-twitter-deal-caps-off-a-brutal-week-for-tech-185513082.html');\" target=\"_blank\">Musk-Twitter deal caps off a brutal week for tech</a></div><div class=\"news-link-right\"><span style=\"color:#aa6dc0;font-size:9px\"> Yahoo Finance</span></div></div></td></tr>\n",
            "<tr><td align=\"right\" width=\"130\">02:29PM</td><td align=\"left\"><div class=\"news-link-container\"><div class=\"news-link-left\"><a class=\"tab-link-news\" href=\"https://finance.yahoo.com/news/us-stocks-wall-street-jumps-182935311.html\" onclick=\"trackAndOpenNews(event, 'Reuters', 'https://finance.yahoo.com/news/us-stocks-wall-street-jumps-182935311.html');\" target=\"_blank\">US STOCKS-Wall Street jumps on solid earnings, encouraging data ahead of 'Fed week'</a></div><div class=\"news-link-right\"><span style=\"color:#aa6dc0;font-size:9px\"> Reuters</span></div></div></td></tr>\n",
            "<tr><td align=\"right\" width=\"130\">01:52PM</td><td align=\"left\"><div class=\"news-link-container\"><div class=\"news-link-left\"><a class=\"tab-link-news\" href=\"https://finance.yahoo.com/news/us-stocks-wall-street-jumps-175241092.html\" onclick=\"trackAndOpenNews(event, 'Reuters', 'https://finance.yahoo.com/news/us-stocks-wall-street-jumps-175241092.html');\" target=\"_blank\">US STOCKS-Wall Street jumps about 2% on upbeat Apple results, hopes of slowing rate hikes</a></div><div class=\"news-link-right\"><span style=\"color:#aa6dc0;font-size:9px\"> Reuters</span></div></div></td></tr>\n",
            "<tr><td align=\"right\" width=\"130\">12:24PM</td><td align=\"left\"><div class=\"news-link-container\"><div class=\"news-link-left\"><a class=\"tab-link-news\" href=\"https://finance.yahoo.com/news/apple-aapl-q4-earnings-top-162404024.html\" onclick=\"trackAndOpenNews(event, 'Zacks', 'https://finance.yahoo.com/news/apple-aapl-q4-earnings-top-162404024.html');\" target=\"_blank\">Apple (AAPL) Q4 Earnings Top Estimates, Revenues Increase Y/Y</a></div><div class=\"news-link-right\"><span style=\"color:#aa6dc0;font-size:9px\"> Zacks</span></div></div></td></tr>\n",
            "<tr><td align=\"right\" width=\"130\">12:14PM</td><td align=\"left\"><div class=\"news-link-container\"><div class=\"news-link-left\"><a class=\"tab-link-news\" href=\"https://www.investors.com/news/stock-market-rally-resilient-as-apple-bucks-megacap-meltdown/?src=A00220\" onclick=\"trackAndOpenNews(event, 'Investor\\u0027s Business Daily', 'https://www.investors.com/news/stock-market-rally-resilient-as-apple-bucks-megacap-meltdown/?src=A00220');\" target=\"_blank\">Stock Market Rally Resilient As Apple Bucks Megacap Meltdown: Weekly Review</a></div><div class=\"news-link-right\"><span style=\"color:#aa6dc0;font-size:9px\"> Investor's Business Daily</span></div></div></td></tr>\n",
            "<tr><td align=\"right\" width=\"130\">11:56AM</td><td align=\"left\"><div class=\"news-link-container\"><div class=\"news-link-left\"><a class=\"tab-link-news\" href=\"https://www.investors.com/market-trend/stock-market-today/stock-market-ignores-tech-wreck-amazon-shattered-but-apple-ok/?src=A00220\" onclick=\"trackAndOpenNews(event, 'Investor\\u0027s Business Daily', 'https://www.investors.com/market-trend/stock-market-today/stock-market-ignores-tech-wreck-amazon-shattered-but-apple-ok/?src=A00220');\" target=\"_blank\">Stock Market Ignores Tech Wreck; Apple Higher; Amazon Shattered</a></div><div class=\"news-link-right\"><span style=\"color:#aa6dc0;font-size:9px\"> Investor's Business Daily</span></div></div></td></tr>\n",
            "<tr><td align=\"right\" width=\"130\">11:52AM</td><td align=\"left\"><div class=\"news-link-container\"><div class=\"news-link-left\"><a class=\"tab-link-news\" href=\"https://finance.yahoo.com/news/iphone-15-lose-physical-side-155243119.html\" onclick=\"trackAndOpenNews(event, 'The Independent', 'https://finance.yahoo.com/news/iphone-15-lose-physical-side-155243119.html');\" target=\"_blank\">iPhone 15 to lose physical side buttons as Apple moves towards portless phones</a></div><div class=\"news-link-right\"><span style=\"color:#aa6dc0;font-size:9px\"> The Independent</span></div></div></td></tr>\n",
            "<tr><td align=\"right\" width=\"130\">11:37AM</td><td align=\"left\"><div class=\"news-link-container\"><div class=\"news-link-left\"><a class=\"tab-link-news\" href=\"https://www.marketwatch.com/story/apple-is-a-bright-spot-amid-the-carnage-of-big-tech-analysts-say-after-earnings-11666956278?siteid=yhoof2\" onclick=\"trackAndOpenNews(event, 'MarketWatch', 'https://www.marketwatch.com/story/apple-is-a-bright-spot-amid-the-carnage-of-big-tech-analysts-say-after-earnings-11666956278?siteid=yhoof2');\" target=\"_blank\">Apple stock surges toward best day since 2020 as its dubbed rare bright spot amid Big Tech carnage</a></div><div class=\"news-link-right\"><span style=\"color:#aa6dc0;font-size:9px\"> MarketWatch</span></div></div></td></tr>\n",
            "<tr><td align=\"right\" width=\"130\">11:34AM</td><td align=\"left\"><div class=\"news-link-container\"><div class=\"news-link-left\"><a class=\"tab-link-news\" href=\"https://finance.yahoo.com/video/apple-balanced-iphone-pricing-volume-153434527.html\" onclick=\"trackAndOpenNews(event, 'Yahoo Finance Video', 'https://finance.yahoo.com/video/apple-balanced-iphone-pricing-volume-153434527.html');\" target=\"_blank\">Apple has balanced iPhone pricing and volume fairly well, analyst says</a></div><div class=\"news-link-right\"><span style=\"color:#aa6dc0;font-size:9px\"> Yahoo Finance Video</span></div></div></td></tr>\n",
            "<tr><td align=\"right\" width=\"130\">11:28AM</td><td align=\"left\"><div class=\"news-link-container\"><div class=\"news-link-left\"><a class=\"tab-link-news\" href=\"https://finance.yahoo.com/video/apple-caters-those-want-premium-152849405.html\" onclick=\"trackAndOpenNews(event, 'Yahoo Finance Video', 'https://finance.yahoo.com/video/apple-caters-those-want-premium-152849405.html');\" target=\"_blank\">Apple caters to those who want a premium experience, analyst says</a></div><div class=\"news-link-right\"><span style=\"color:#aa6dc0;font-size:9px\"> Yahoo Finance Video</span></div></div></td></tr>\n",
            "<tr><td align=\"right\" width=\"130\">11:15AM</td><td align=\"left\"><div class=\"news-link-container\"><div class=\"news-link-left\"><a class=\"tab-link-news\" href=\"https://realmoney.thestreet.com/investing/apple-escapes-the-tech-carnage-here-s-what-traders-should-watch-for-now-16106865?puc=yahoo&amp;cm_ven=YAHOO\" onclick=\"trackAndOpenNews(event, 'TheStreet.com', 'https://realmoney.thestreet.com/investing/apple-escapes-the-tech-carnage-here-s-what-traders-should-watch-for-now-16106865?puc=yahoo&amp;cm_ven=YAHOO');\" target=\"_blank\">Apple Escapes the Tech Carnage: Here's What Traders Should Watch for Now</a></div><div class=\"news-link-right\"><span style=\"color:#aa6dc0;font-size:9px\"> TheStreet.com</span></div></div></td></tr>\n",
            "<tr><td align=\"right\" width=\"130\">10:38AM</td><td align=\"left\"><div class=\"news-link-container\"><div class=\"news-link-left\"><a class=\"tab-link-news\" href=\"https://finance.yahoo.com/news/us-stocks-wall-street-rises-143817944.html\" onclick=\"trackAndOpenNews(event, 'Reuters', 'https://finance.yahoo.com/news/us-stocks-wall-street-rises-143817944.html');\" target=\"_blank\">US STOCKS-Wall Street rises as Apple boost outweighs Amazon gloom</a></div><div class=\"news-link-right\"><span style=\"color:#aa6dc0;font-size:9px\"> Reuters</span></div></div></td></tr>\n",
            "<tr><td align=\"right\" width=\"130\">10:28AM</td><td align=\"left\"><div class=\"news-link-container\"><div class=\"news-link-left\"><a class=\"tab-link-news\" href=\"https://www.fool.com/investing/2022/10/28/apples-steady-results-prove-why-its-the-ultimate-w/?source=eptyholnk0000202&amp;utm_source=yahoo-host&amp;utm_medium=feed&amp;utm_campaign=article\" onclick=\"trackAndOpenNews(event, 'Motley Fool', 'https://www.fool.com/investing/2022/10/28/apples-steady-results-prove-why-its-the-ultimate-w/?source=eptyholnk0000202&amp;utm_source=yahoo-host&amp;utm_medium=feed&amp;utm_campaign=article');\" target=\"_blank\">Apple's Steady Results Prove Why It's the Ultimate Warren Buffett Stock</a></div><div class=\"news-link-right\"><span style=\"color:#aa6dc0;font-size:9px\"> Motley Fool</span></div></div></td></tr>\n",
            "<tr><td align=\"right\" width=\"130\">10:08AM</td><td align=\"left\"><div class=\"news-link-container\"><div class=\"news-link-left\"><a class=\"tab-link-news\" href=\"https://www.bizjournals.com/triangle/news/2022/10/28/apple-research-triangle-park-raleigh-durham-jobs.html?utm_source=sy&amp;utm_medium=nsyp&amp;utm_campaign=yh\" onclick=\"trackAndOpenNews(event, 'American City Business Journals', 'https://www.bizjournals.com/triangle/news/2022/10/28/apple-research-triangle-park-raleigh-durham-jobs.html?utm_source=sy&amp;utm_medium=nsyp&amp;utm_campaign=yh');\" target=\"_blank\">Exclusive: Construction could happen soon at Apple in RTP</a></div><div class=\"news-link-right\"><span style=\"color:#aa6dc0;font-size:9px\"> American City Business Journals</span></div></div></td></tr>\n",
            "<tr><td align=\"right\" width=\"130\">10:06AM</td><td align=\"left\"><div class=\"news-link-container\"><div class=\"news-link-left\"><a class=\"tab-link-news\" href=\"https://www.wsj.com/articles/tech-boom-ends-as-companies-from-amazon-to-meta-adjust-to-turbulent-times-11666957789?siteid=yhoof2\" onclick=\"trackAndOpenNews(event, 'The Wall Street Journal', 'https://www.wsj.com/articles/tech-boom-ends-as-companies-from-amazon-to-meta-adjust-to-turbulent-times-11666957789?siteid=yhoof2');\" target=\"_blank\">Tech Boom Ends as Companies From Amazon to Meta Adjust to Turbulent Times</a></div><div class=\"news-link-right\"><span style=\"color:#aa6dc0;font-size:9px\"> The Wall Street Journal</span></div></div></td></tr>\n",
            "<tr><td align=\"right\" width=\"130\">10:05AM</td><td align=\"left\"><div class=\"news-link-container\"><div class=\"news-link-left\"><a class=\"tab-link-news\" href=\"https://www.investors.com/market-trend/stock-market-today/dow-jones-futures-fall-ahead-of-key-inflation-data-amazon-dives-apple-rallies-on-earnings/?src=A00220\" onclick=\"trackAndOpenNews(event, 'Investor\\u0027s Business Daily', 'https://www.investors.com/market-trend/stock-market-today/dow-jones-futures-fall-ahead-of-key-inflation-data-amazon-dives-apple-rallies-on-earnings/?src=A00220');\" target=\"_blank\">Dow Jones Rallies On Key Inflation Data; Amazon Dives, Apple Climbs On Earnings</a></div><div class=\"news-link-right\"><span style=\"color:#aa6dc0;font-size:9px\"> Investor's Business Daily</span></div></div></td></tr>\n",
            "<tr><td align=\"right\" width=\"130\">10:02AM</td><td align=\"left\"><div class=\"news-link-container\"><div class=\"news-link-left\"><a class=\"tab-link-news\" href=\"https://finance.yahoo.com/news/one-metaverse-frenzy-yet-yield-102224373.html\" onclick=\"trackAndOpenNews(event, 'Bloomberg', 'https://finance.yahoo.com/news/one-metaverse-frenzy-yet-yield-102224373.html');\" target=\"_blank\">One Year On, Metaverse Frenzy Yet to Yield Dividends</a></div><div class=\"news-link-right\"><span style=\"color:#aa6dc0;font-size:9px\"> Bloomberg</span></div></div></td></tr>\n",
            "<tr><td align=\"right\" width=\"130\">09:49AM</td><td align=\"left\"><div class=\"news-link-container\"><div class=\"news-link-left\"><a class=\"tab-link-news\" href=\"https://finance.yahoo.com/video/apple-now-worth-9x-more-134921153.html\" onclick=\"trackAndOpenNews(event, 'Yahoo Finance Video', 'https://finance.yahoo.com/video/apple-now-worth-9x-more-134921153.html');\" target=\"_blank\">Apple is now worth 9x more than Meta</a></div><div class=\"news-link-right\"><span style=\"color:#aa6dc0;font-size:9px\"> Yahoo Finance Video</span></div></div></td></tr>\n",
            "<tr><td align=\"right\" width=\"130\">09:48AM</td><td align=\"left\"><div class=\"news-link-container\"><div class=\"news-link-left\"><a class=\"tab-link-news\" href=\"https://finance.yahoo.com/video/p-500-consolidates-gains-mega-134829193.html\" onclick=\"trackAndOpenNews(event, 'Yahoo Finance Video', 'https://finance.yahoo.com/video/p-500-consolidates-gains-mega-134829193.html');\" target=\"_blank\">S&amp;P 500 consolidates gains, mega-cap tech stocks lead</a></div><div class=\"news-link-right\"><span style=\"color:#aa6dc0;font-size:9px\"> Yahoo Finance Video</span></div></div></td></tr>\n",
            "<tr><td align=\"right\" width=\"130\">09:39AM</td><td align=\"left\"><div class=\"news-link-container\"><div class=\"news-link-left\"><a class=\"tab-link-news\" href=\"https://finance.yahoo.com/video/stocks-mixed-open-apple-gains-133955698.html\" onclick=\"trackAndOpenNews(event, 'Yahoo Finance Video', 'https://finance.yahoo.com/video/stocks-mixed-open-apple-gains-133955698.html');\" target=\"_blank\">Stocks mixed at open, Apple gains, Amazon extends losses</a></div><div class=\"news-link-right\"><span style=\"color:#aa6dc0;font-size:9px\"> Yahoo Finance Video</span></div></div></td></tr>\n",
            "<tr><td align=\"right\" width=\"130\">09:25AM</td><td align=\"left\"><div class=\"news-link-container\"><div class=\"news-link-left\"><a class=\"tab-link-news\" href=\"https://finance.yahoo.com/video/apple-delivers-record-revenue-even-132506203.html\" onclick=\"trackAndOpenNews(event, 'Yahoo Finance Video', 'https://finance.yahoo.com/video/apple-delivers-record-revenue-even-132506203.html');\" target=\"_blank\">Apple delivers record revenue even as iPhone sales were lighter than expected</a></div><div class=\"news-link-right\"><span style=\"color:#aa6dc0;font-size:9px\"> Yahoo Finance Video</span></div></div></td></tr>\n",
            "</table>\n"
          ]
        }
      ],
      "source": [
        "def news_headlines(ticker):\n",
        " url = f'https://finviz.com/quote.ashx?t={ticker}'\n",
        " req = requests.get(url,headers={'user-agent': 'nlp_bot'}).text\n",
        " html = BeautifulSoup(req, 'html.parser')\n",
        " headline = html.find(id='news-table')\n",
        " return headline\n",
        "print(news_headlines('AAPL'))"
      ]
    },
    {
      "cell_type": "code",
      "execution_count": null,
      "metadata": {
        "id": "sdghAboc51pR"
      },
      "outputs": [],
      "source": [
        "class datetime_parser:\n",
        " def __init__(self):\n",
        "  self.date = ''\n",
        "  self.time = ''\n",
        " \n",
        " def parsing(self,dateinfo):\n",
        "  dateinfo = [x.replace('\\xa0\\xa0', '') for x in dateinfo.split(' ')]\n",
        "  if len(dateinfo) > 1:\n",
        "   self.date = dateinfo[0]\n",
        "   self.time = dateinfo[1]\n",
        "  else:\n",
        "   self.time = dateinfo[0]\n",
        "  \n",
        "  return datetime.strptime(self.date + \" \" + self.time, \"%b-%d-%y %I:%M%p\")"
      ]
    },
    {
      "cell_type": "code",
      "execution_count": null,
      "metadata": {
        "id": "xciOPvoE-AYV"
      },
      "outputs": [],
      "source": [
        "def preprocessing(headline):\n",
        " dParser = datetime_parser()\n",
        " table = [x.a.text for x in headline.findAll('tr')]\n",
        " date_info = [dParser.parsing(x.td.text) for x in headline.findAll('tr')]\n",
        " display(table)\n",
        " print(date_info)"
      ]
    },
    {
      "cell_type": "code",
      "execution_count": null,
      "metadata": {
        "id": "TixJGzbs-Sa6"
      },
      "outputs": [],
      "source": [
        "def convert_to_DF(stock, news):\n",
        "\tstock_info = []\n",
        "\tfor x in news:\n",
        "\t\tstock_info.append({**stock,**x})\n",
        "\t\n",
        "\treturn pd.DataFrame(stock_info)\n"
      ]
    },
    {
      "cell_type": "code",
      "execution_count": null,
      "metadata": {
        "colab": {
          "base_uri": "https://localhost:8080/",
          "height": 321
        },
        "id": "2FvHJRqv_PXj",
        "outputId": "bb3c3ecb-5168-4fb9-82fd-3abb65926257"
      },
      "outputs": [
        {
          "ename": "NameError",
          "evalue": "ignored",
          "output_type": "error",
          "traceback": [
            "\u001b[0;31m---------------------------------------------------------------------------\u001b[0m",
            "\u001b[0;31mNameError\u001b[0m                                 Traceback (most recent call last)",
            "\u001b[0;32m<ipython-input-6-a3bfb321cce1>\u001b[0m in \u001b[0;36m<module>\u001b[0;34m\u001b[0m\n\u001b[1;32m      8\u001b[0m \u001b[0;34m\u001b[0m\u001b[0m\n\u001b[1;32m      9\u001b[0m \u001b[0;32mif\u001b[0m \u001b[0m__name__\u001b[0m \u001b[0;34m==\u001b[0m \u001b[0;34m'__main__'\u001b[0m\u001b[0;34m:\u001b[0m\u001b[0;34m\u001b[0m\u001b[0;34m\u001b[0m\u001b[0m\n\u001b[0;32m---> 10\u001b[0;31m         \u001b[0mmain\u001b[0m\u001b[0;34m(\u001b[0m\u001b[0;34m)\u001b[0m\u001b[0;34m\u001b[0m\u001b[0;34m\u001b[0m\u001b[0m\n\u001b[0m",
            "\u001b[0;32m<ipython-input-6-a3bfb321cce1>\u001b[0m in \u001b[0;36mmain\u001b[0;34m()\u001b[0m\n\u001b[1;32m      1\u001b[0m \u001b[0;32mdef\u001b[0m \u001b[0mmain\u001b[0m\u001b[0;34m(\u001b[0m\u001b[0;34m)\u001b[0m\u001b[0;34m:\u001b[0m\u001b[0;34m\u001b[0m\u001b[0;34m\u001b[0m\u001b[0m\n\u001b[0;32m----> 2\u001b[0;31m         \u001b[0mstock_info\u001b[0m \u001b[0;34m=\u001b[0m \u001b[0mstock_ticker_crawler\u001b[0m\u001b[0;34m(\u001b[0m\u001b[0mlimit\u001b[0m\u001b[0;34m=\u001b[0m\u001b[0;36m3\u001b[0m\u001b[0;34m)\u001b[0m\u001b[0;34m\u001b[0m\u001b[0;34m\u001b[0m\u001b[0m\n\u001b[0m\u001b[1;32m      3\u001b[0m         \u001b[0mnews_headline_info\u001b[0m \u001b[0;34m=\u001b[0m \u001b[0;34m[\u001b[0m\u001b[0mpreprocessing\u001b[0m\u001b[0;34m(\u001b[0m\u001b[0mnews_headlines\u001b[0m\u001b[0;34m(\u001b[0m\u001b[0mx\u001b[0m\u001b[0;34m[\u001b[0m\u001b[0;34m'company-code'\u001b[0m\u001b[0;34m]\u001b[0m\u001b[0;34m)\u001b[0m\u001b[0;34m)\u001b[0m \u001b[0;32mfor\u001b[0m \u001b[0mx\u001b[0m \u001b[0;32min\u001b[0m \u001b[0mstock_info\u001b[0m\u001b[0;34m]\u001b[0m\u001b[0;34m\u001b[0m\u001b[0;34m\u001b[0m\u001b[0m\n\u001b[1;32m      4\u001b[0m         \u001b[0mstock_data\u001b[0m \u001b[0;34m=\u001b[0m \u001b[0;34m[\u001b[0m\u001b[0mconvert_to_DF\u001b[0m\u001b[0;34m(\u001b[0m\u001b[0mx\u001b[0m\u001b[0;34m,\u001b[0m \u001b[0my\u001b[0m\u001b[0;34m)\u001b[0m \u001b[0;32mfor\u001b[0m \u001b[0mx\u001b[0m\u001b[0;34m,\u001b[0m \u001b[0my\u001b[0m \u001b[0;32min\u001b[0m \u001b[0mzip\u001b[0m\u001b[0;34m(\u001b[0m\u001b[0mstock_info\u001b[0m\u001b[0;34m,\u001b[0m \u001b[0mnews_headline_info\u001b[0m\u001b[0;34m)\u001b[0m\u001b[0;34m]\u001b[0m\u001b[0;34m\u001b[0m\u001b[0;34m\u001b[0m\u001b[0m\n\u001b[1;32m      5\u001b[0m         \u001b[0mstock_data\u001b[0m \u001b[0;34m=\u001b[0m \u001b[0mpd\u001b[0m\u001b[0;34m.\u001b[0m\u001b[0mconcat\u001b[0m\u001b[0;34m(\u001b[0m\u001b[0mstock_data\u001b[0m\u001b[0;34m)\u001b[0m\u001b[0;34m\u001b[0m\u001b[0;34m\u001b[0m\u001b[0m\n",
            "\u001b[0;31mNameError\u001b[0m: name 'stock_ticker_crawler' is not defined"
          ]
        }
      ],
      "source": [
        "def main():\n",
        "\tstock_info = stock_ticker_crawler(limit=3)\n",
        "\tnews_headline_info = [preprocessing(news_headlines(x['company-code'])) for x in stock_info]\n",
        "\tstock_data = [convert_to_DF(x, y) for x, y in zip(stock_info, news_headline_info)]\n",
        "\tstock_data = pd.concat(stock_data)\n",
        "\tstock_data.to_excel('final_data.xlsx')\n",
        "\tprint(stock_data)\n",
        "\t\t\n",
        "if __name__ == '__main__':\n",
        "\tmain()\n"
      ]
    },
    {
      "cell_type": "code",
      "execution_count": null,
      "metadata": {
        "id": "Vtgf7vJ8_bF3"
      },
      "outputs": [],
      "source": [
        "##Vikas_Malik Code at 06-03-2022 06:19PM\n",
        "import requests\n",
        "from bs4 import BeautifulSoup\n",
        "from datetime import datetime\n",
        "import pandas as pd\n",
        "import nltk\n",
        "\n",
        "class datetime_parser:\n",
        "\n",
        "\tdef __init__(self):\n",
        "\t\tself.date = ''\n",
        "\t\tself.time = ''\n",
        "\t\n",
        "\tdef parsing(self,dateinfo):\n",
        "\t\tdateinfo = [x.replace('\\xa0\\xa0', '') for x in dateinfo.split(' ')]\n",
        "\t\tif len(dateinfo) > 1:\n",
        "\t\t\tself.date = dateinfo[0]\n",
        "\t\t\tself.time = dateinfo[1]\n",
        "\t\telse:\n",
        "\t\t\tself.time = dateinfo[0]\n",
        "\t\t\n",
        "\t\treturn datetime.strptime(self.date + \" \" + self.time, \"%b-%d-%y %I:%M%p\")\n",
        "\n",
        "def stock_ticker_crawler(limit=10):\n",
        "\thtml = requests.get('https://companiesmarketcap.com/tech/largest-tech-companies-by-market-cap/').text\n",
        "\tsoup = BeautifulSoup(html, 'html.parser')\n",
        "\tcompanyName = [x.get_text(strip=True) for x in soup.find_all('div', {'class': 'company-name'})][:limit]\n",
        "\tcompanyCode = [x.get_text(strip=True) for x in soup.find_all('div', {'class': 'company-code'})][:limit]\n",
        "\t\n",
        "\treturn [{'company-code': x, 'company-name': y} for x, y in zip(companyCode, companyName)]\t\n",
        "\n",
        "def news_headlines(ticker):\n",
        "\turl = f'https://finviz.com/quote.ashx?t={ticker}'\n",
        "\treq = requests.get(url, headers={'user-agent': 'nlp_bot'}).text\n",
        "\thtml = BeautifulSoup(req, 'html.parser')\n",
        "\theadline = html.find(id='news-table')\n",
        "\n",
        "\treturn headline\n",
        "\n",
        "def preprocessing(headline):\n",
        "\tdParser = datetime_parser()\n",
        "\ttable = [x.a.text for x in headline.findAll('tr')]\n",
        "\tdate_info = [dParser.parsing(x.td.text) for x in headline.findAll('tr')]\n",
        "\t\n",
        "\theadlines = [{\"news-title\": x, \"date\": y} for x, y in zip(table, date_info)]\n",
        "\t\n",
        "\treturn headlines\n",
        "\n",
        "def convert_to_DF(stock, news):\n",
        "\tstock_info = []\n",
        "\tfor x in news:\n",
        "\t\tstock_info.append({**stock,**x})\n",
        "\t\n",
        "\treturn pd.DataFrame(stock_info)\n",
        "\n",
        "def main():\n",
        "\tstock_info = stock_ticker_crawler(limit=3)\n",
        "\tnews_headline_info = [preprocessing(news_headlines(x['company-code'])) for x in stock_info]\n",
        "\tstock_data = [convert_to_DF(x, y) for x, y in zip(stock_info, news_headline_info)]\n",
        "\tstock_data = pd.concat(stock_data)\n",
        "\tstock_data.to_excel('final_data.xlsx')\n",
        "\tprint(stock_data)\n",
        "\t\t\n",
        "if __name__ == '__main__':\n",
        "\tmain()"
      ]
    },
    {
      "cell_type": "code",
      "execution_count": null,
      "metadata": {
        "id": "ixpBDuxmAP_c"
      },
      "outputs": [],
      "source": [
        "from nltk.sentiment.vader import SentimentIntensityAnalyzer as sia\n",
        "def sentiment_analysis(title):\n",
        " return sia().polarity_scores(title)['compound']"
      ]
    },
    {
      "cell_type": "code",
      "execution_count": null,
      "metadata": {
        "id": "nymRI2uzAbmJ"
      },
      "outputs": [],
      "source": [
        "sia.compound\n",
        "\n"
      ]
    },
    {
      "cell_type": "code",
      "execution_count": null,
      "metadata": {
        "id": "hZ5DwarWIeSj"
      },
      "outputs": [],
      "source": [
        "help('statsforecast')"
      ]
    },
    {
      "cell_type": "code",
      "execution_count": null,
      "metadata": {
        "id": "cCmac5AVCuxU"
      },
      "outputs": [],
      "source": [
        "pip install statsforecast\n"
      ]
    },
    {
      "cell_type": "code",
      "execution_count": null,
      "metadata": {
        "id": "ekkWmd03KRMI"
      },
      "outputs": [],
      "source": [
        "from statsforecast.utils import generate_series\n"
      ]
    },
    {
      "cell_type": "code",
      "execution_count": null,
      "metadata": {
        "id": "UbELNNPWKU9N"
      },
      "outputs": [],
      "source": [
        "synthetic_panel = generate_series(n_series=1, freq = 'M')\n"
      ]
    },
    {
      "cell_type": "code",
      "execution_count": null,
      "metadata": {
        "id": "EgsWCjJ3KYPc"
      },
      "outputs": [],
      "source": [
        "synthetic_panel\n",
        "\n",
        "\n"
      ]
    },
    {
      "cell_type": "code",
      "execution_count": null,
      "metadata": {
        "id": "SpH5efOdKrFl"
      },
      "outputs": [],
      "source": [
        "Y_train_df = synthetic_panel[:-6]\n",
        "Y_test_df = synthetic_panel[-6:]\n",
        "\n"
      ]
    },
    {
      "cell_type": "code",
      "execution_count": null,
      "metadata": {
        "id": "uPUasuhcOHvb"
      },
      "outputs": [],
      "source": [
        "Y_test_df"
      ]
    },
    {
      "cell_type": "code",
      "execution_count": null,
      "metadata": {
        "id": "02nnmP8qKzGi"
      },
      "outputs": [],
      "source": [
        "from statsforecast import StatsForecast\n"
      ]
    },
    {
      "cell_type": "code",
      "execution_count": null,
      "metadata": {
        "id": "6q901ftbK4y9"
      },
      "outputs": [],
      "source": [
        "from statsforecast.models import AutoARIMA, ETS\n"
      ]
    },
    {
      "cell_type": "code",
      "execution_count": null,
      "metadata": {
        "id": "YaWFgrPIK_S_"
      },
      "outputs": [],
      "source": [
        "season_length = 12\n",
        "horizon = len(Y_test_df)\n",
        "models = [\n",
        "AutoARIMA(season_length=season_length),\n",
        "ETS(season_length=season_length, model='ZMZ')\n",
        "]\n",
        "model = StatsForecast(\n",
        "df=Y_train_df,\n",
        "models=models,\n",
        "freq='M',\n",
        "n_jobs=-1)"
      ]
    },
    {
      "cell_type": "code",
      "execution_count": null,
      "metadata": {
        "id": "SX7agU_hLGsH"
      },
      "outputs": [],
      "source": [
        "%time\n",
        "Y_hat_df = model.forecast(horizon).reset_index()\n",
        "Y_hat_df.head()"
      ]
    },
    {
      "cell_type": "code",
      "execution_count": null,
      "metadata": {
        "id": "duvNumKHLoMM"
      },
      "outputs": [],
      "source": [
        "import matplotlib.pyplot as plt\n",
        "import numpy as np\n",
        "import pandas as pd\n",
        "import matplotlib\n",
        "\n",
        "fig, ax = plt.subplots(1, 1, figsize = (20, 7))\n",
        "Y_hat_df = Y_test_df.merge(Y_hat_df, how='left', on=['unique_id', 'ds'])\n",
        "plot_df = pd.concat([Y_train_df, Y_hat_df]).set_index('ds')\n",
        "plot_df[['y', 'AutoARIMA', 'ETS']].plot(ax=ax, linewidth=2)\n",
        "ax.set_title('Forecast Synthetic Data', fontsize=22)\n",
        "ax.set_ylabel('Number', fontsize=20)\n",
        "ax.set_xlabel('Timestamp [t]', fontsize=20)\n",
        "ax.legend(prop={'size': 15})\n",
        "ax.grid()"
      ]
    },
    {
      "cell_type": "code",
      "execution_count": null,
      "metadata": {
        "id": "RZ4ex-AkRlI3"
      },
      "outputs": [],
      "source": [
        "import prophet\n"
      ]
    },
    {
      "cell_type": "code",
      "execution_count": null,
      "metadata": {
        "id": "HCvcvkBZSXz4"
      },
      "outputs": [],
      "source": [
        "!wget http://setup.johnsnowlabs.com/colab.sh -O - | bash\n"
      ]
    },
    {
      "cell_type": "code",
      "execution_count": null,
      "metadata": {
        "id": "AdZMhN8KLx1-"
      },
      "outputs": [],
      "source": [
        "\n"
      ]
    },
    {
      "cell_type": "code",
      "execution_count": null,
      "metadata": {
        "id": "_OnVl5UaQX0i"
      },
      "outputs": [],
      "source": [
        "from jupyter_core.paths import jupyter_path\n",
        "import numpy as np\n",
        "import pandas as pd\n",
        "import seaborn as sns\n",
        "import os\n",
        "import glob\n",
        "import math\n",
        "import matplotlib.pyplot as plt\n",
        "from sklearn.model_selection import train_test_split\n",
        "from sklearn.preprocessing import LabelEncoder\n",
        "from sklearn import metrics\n",
        "from sklearn.model_selection import GridSearchCV\n",
        "from sklearn.model_selection import KFold\n",
        "import lightgbm as lgb # Our ML library\n",
        "\n"
      ]
    },
    {
      "cell_type": "code",
      "execution_count": null,
      "metadata": {
        "id": "pbr9rtaNRPQi"
      },
      "outputs": [],
      "source": [
        "# ===================== Part 2: Gradient descent =====================\n",
        "print('Running Gradient Descent...')\n",
        "\n",
        "X = np.c_[np.ones(m), X]  # Add a column of ones to X\n",
        "theta = np.zeros(2)  # initialize fitting parameters\n",
        "\n",
        "# Some gradient descent settings\n",
        "iterations = 1500\n",
        "alpha = 0.01\n",
        "\n",
        "# Compute and display initial cost\n",
        "print('Initial cost : ' + str(compute_cost(X, y, theta)) + ' (This value should be about 32.07)')\n",
        "\n",
        "theta, J_history = gradient_descent(X, y, theta, alpha, iterations)\n",
        "\n",
        "print('Theta found by gradient descent: ' + str(theta.reshape(2)))\n",
        "\n",
        "# Plot the linear fit\n",
        "plt.figure(0)\n",
        "line1, = plt.plot(X[:, 1], np.dot(X, theta), label='Linear Regression')\n",
        "plt.legend(handles=[line1])\n",
        "\n",
        "input('Program paused. Press ENTER to continue')\n",
        "\n",
        "# Predict values for population sizes of 35,000 and 70,000\n",
        "predict1 = np.dot(np.array([1, 3.5]), theta)\n",
        "print('For population = 35,000, we predict a profit of {:0.3f} (This value should be about 4519.77)'.format(predict1*10000))\n",
        "predict2 = np.dot(np.array([1, 7]), theta)\n",
        "print('For population = 70,000, we predict a profit of {:0.3f} (This value should be about 45342.45)'.format(predict2*10000))\n",
        "\n",
        "input('Program paused. Press ENTER to continue')\n",
        "\n",
        "# ===================== Part 3: Visualizing J(theta0, theta1) =====================\n",
        "print('Visualizing J(theta0, theta1) ...')\n",
        "\n",
        "theta0_vals = np.linspace(-10, 10, 100)\n",
        "theta1_vals = np.linspace(-1, 4, 100)\n",
        "\n",
        "xs, ys = np.meshgrid(theta0_vals, theta1_vals)\n",
        "J_vals = np.zeros(xs.shape)\n",
        "\n",
        "# Fill out J_vals\n",
        "for i in range(0, theta0_vals.size):\n",
        "    for j in range(0, theta1_vals.size):\n",
        "        t = np.array([theta0_vals[i], theta1_vals[j]])\n",
        "        J_vals[i][j] = compute_cost(X, y, t)\n",
        "\n",
        "J_vals = np.transpose(J_vals)\n",
        "\n",
        "fig1 = plt.figure(1)\n",
        "ax = fig1.gca(projection='3d')\n",
        "ax.plot_surface(xs, ys, J_vals)\n",
        "plt.xlabel(r'$\\theta_0$')\n",
        "plt.ylabel(r'$\\theta_1$')\n",
        "\n",
        "plt.figure(2)\n",
        "lvls = np.logspace(-2, 3, 20)\n",
        "plt.contour(xs, ys, J_vals, levels=lvls, norm=LogNorm())\n",
        "plt.plot(theta[0], theta[1], c='r', marker=\"x\")\n",
        "\n",
        "input('ex1 Finished. Press ENTER to exit')"
      ]
    },
    {
      "cell_type": "code",
      "execution_count": null,
      "metadata": {
        "id": "zmVnyE9VgK-N"
      },
      "outputs": [],
      "source": [
        "# Python program to reverse a linked list\n",
        "# Time Complexity : O(n)\n",
        "# Space Complexity : O(1)\n",
        "\n",
        "# Node class\n",
        "\n",
        "\n",
        "class Node:\n",
        "\n",
        "\t# Constructor to initialize the node object\n",
        "\tdef __init__(self, data):\n",
        "\t\tself.data = data\n",
        "\t\tself.next = None\n",
        "\n",
        "\n",
        "class LinkedList:\n",
        "\n",
        "\t# Function to initialize head\n",
        "\tdef __init__(self):\n",
        "\t\tself.head = None\n",
        "\n",
        "\t# Function to reverse the linked list\n",
        "\tdef reverse(self):\n",
        "\t\tprev = None\n",
        "\t\tcurrent = self.head\n",
        "\t\twhile(current is not None):\n",
        "\t\t\tnext = current.next\n",
        "\t\t\tcurrent.next = prev\n",
        "\t\t\tprev = current\n",
        "\t\t\tcurrent = next\n",
        "\t\tself.head = prev\n",
        "\n",
        "\t# Function to insert a new node at the beginning\n",
        "\tdef push(self, new_data):\n",
        "\t\tnew_node = Node(new_data)\n",
        "\t\tnew_node.next = self.head\n",
        "\t\tself.head = new_node\n",
        "\n",
        "\t# Utility function to print the linked LinkedList\n",
        "\tdef printList(self):\n",
        "\t\ttemp = self.head\n",
        "\t\twhile(temp):\n",
        "\t\t\tprint(temp.data, end=\" \")\n",
        "\t\t\ttemp = temp.next\n",
        "\n",
        "\n",
        "# Driver code\n",
        "llist = LinkedList()\n",
        "llist.push(20)\n",
        "llist.push(4)\n",
        "llist.push(15)\n",
        "llist.push(85)\n",
        "\n",
        "print (\"Given Linked List\")\n",
        "llist.printList()\n",
        "llist.reverse()\n",
        "print (\"\\nReversed Linked List\")\n",
        "llist.printList()\n",
        "\n",
        "# This code is contributed by Vikas Malik (desi385)\n"
      ]
    },
    {
      "cell_type": "code",
      "execution_count": null,
      "metadata": {
        "colab": {
          "base_uri": "https://localhost:8080/"
        },
        "id": "nOP9yz8lHvq4",
        "outputId": "47b271c8-c73d-4b8f-eeea-45dfeacb6d4f"
      },
      "outputs": [
        {
          "name": "stdout",
          "output_type": "stream",
          "text": [
            "Looking in indexes: https://pypi.org/simple, https://us-python.pkg.dev/colab-wheels/public/simple/\n",
            "Collecting haversine\n",
            "  Downloading haversine-2.7.0-py2.py3-none-any.whl (6.9 kB)\n",
            "Installing collected packages: haversine\n",
            "Successfully installed haversine-2.7.0\n"
          ]
        }
      ],
      "source": [
        "import pandas as pd\n",
        "import numpy as np\n",
        "!pip install haversine\n",
        "import math\n",
        "from haversine import haversine, Unit\n",
        "import random, sys, time, math\n",
        "import matplotlib.pyplot as plt\n",
        "import warnings\n",
        "%matplotlib inline\n",
        "import seaborn as sb\n",
        "warnings.filterwarnings('ignore')\n",
        "plt.style.use('seaborn-whitegrid')\n",
        "\n",
        "\n"
      ]
    },
    {
      "cell_type": "code",
      "execution_count": null,
      "metadata": {
        "id": "2LDDVj5hIlPP"
      },
      "outputs": [],
      "source": [
        "    class ACO():\n",
        "      def __init__(self):\n",
        "        self.y = []\n",
        "        self.z = []\n",
        "\n",
        "    def calculate_distance(self, paths):\n",
        "        total_distance = 0;\n",
        "        x = paths[0]\n",
        "        for p in range(len(paths)): \n",
        "            i = paths[p]\n",
        "            total_distance += _distance[x][i]\n",
        "            if verbose:\n",
        "                print(x, i, _distance[x][i], total_distance)\n",
        "            x = i\n",
        "\n",
        "        if verbose:\n",
        "            print(total_distance)\n",
        "        return total_distance\n",
        "        print(total_distance)\n",
        "    def Fit(self, distance, nk=10, maxIterations=100, beta=2, zeta=0.1, rho=0.2, q0=0.7, plot=False, verbose=False):\n",
        "        _distance = distance \n",
        "        X = distance[0]\n",
        "        Y = X\n",
        "        \n",
        "        # initial information Transfer\n",
        "        total_distance = 0;\n",
        "        x = 0\n",
        "        for i in range(len(X)):    \n",
        "            total_distance += _distance[x][i]\n",
        "            x = i\n",
        "\n",
        "        _Info_transfer_InitialValue = 1/total_distance\n",
        "        if verbose:\n",
        "            print(total_distance, _Info_transfer_InitialValue)\n",
        "            print()\n",
        "\n",
        "        _Info_transfer_ = []        \n",
        "        for x in X:      \n",
        "            result = [_Info_transfer_InitialValue for y in Y]\n",
        "            _Info_transfer_.append(result)\n",
        "\n",
        "        if depot == -1: # start from random node\n",
        "            _depot = random.sample(range(0, len(df1)), nk)\n",
        "        else:\n",
        "            _depot = [depot] * nk \n",
        "\n",
        "        if verbose:\n",
        "            print('_depot')\n",
        "            print(_depot)\n",
        "            print()\n",
        "\n",
        "        \n",
        "        best_paths = []\n",
        "        best_distance = sys.float_info.max\n",
        "\n",
        "        start_time_process = time.time()\n",
        "\n",
        "\n",
        "        for it in range(maxIterations):\n",
        "            best_current_paths = []\n",
        "\n",
        "            best_current_distance = sys.float_info.max\n",
        "            total_node = 1\n",
        "            exist = []\n",
        "            for ant in range(nk):\n",
        "                if verbose:\n",
        "                    print()\n",
        "                    print(\"Semut\", ant, \" ... \", _depot[ant])\n",
        "\n",
        "                paths = []\n",
        "                exist = [] \n",
        "                _from = _depot[ant]\n",
        "                paths.append(_depot[ant])\n",
        "                exist.append(_depot[ant])\n",
        "\n",
        "\n",
        "                while len(paths) < len(df1):    \n",
        "                    # get all node not visited yet\n",
        "                    _posibleNode = []\n",
        "                    for i in range(len(X)):\n",
        "                        _exist = False\n",
        "                        for x in exist:\n",
        "                            if i == x:\n",
        "                                _exist = True\n",
        "                        if not _exist:\n",
        "                            _posibleNode.append(i)     \n",
        "                    _q0 = np.random.randn()\n",
        "                    if _q0 <= q0:\n",
        "                        # get by heuristic \n",
        "                        if verbose:\n",
        "                            print(\"heuristic\")\n",
        "\n",
        "                        shortTransition = sys.float_info.max\n",
        "                        __to = -1\n",
        "                        for p in _posibleNode:\n",
        "                            distanceValue = _distance[_from][p]\n",
        "                            Info_transfer_Value = _Info_transfer_[_from][p]\n",
        "                            transitionValue = (1/Info_transfer_Value) * math.pow(distanceValue, beta)\n",
        "                            if verbose:\n",
        "                                print(_from, p, distanceValue, Info_transfer_Value, transitionValue)\n",
        "                            if shortTransition > transitionValue:\n",
        "                                shortTransition = transitionValue\n",
        "                                _to = p\n",
        "\n",
        "                        paths.append(_to)\n",
        "                        exist.append(_to)\n",
        "                        if verbose:\n",
        "                            print('next: ', _to)  \n",
        "                    else:    \n",
        "                        # get by random\n",
        "                        if verbose:\n",
        "                            print(\"random\")\n",
        "                        _to = random.randint(0, len(df)) \n",
        "                        while _to in exist:\n",
        "                            _to = random.randint(0, len(df)) \n",
        "                        paths.append(_to)\n",
        "                        exist.append(_to)\n",
        "\n",
        "                        if verbose:\n",
        "                            print('next: ', _to)\n",
        "                    # Apply local Info_transfer_ updating\n",
        "                    Info_transfer_Value = _Info_transfer_[_from][_to]\n",
        "                    tau = (( 1 - zeta) * Info_transfer_Value) + _Info_transfer_InitialValue\n",
        "                    _Info_transfer_[_from][_to] = tau\n",
        "                    _Info_transfer_[_to][_from] = tau\n",
        "\n",
        "                    _from = _to\n",
        "\n",
        "                    if verbose:\n",
        "                        print(paths)\n",
        "                        print()\n",
        "\n",
        "                distance = self.calculate_distance(paths)\n",
        "\n",
        "                if best_current_distance > distance:\n",
        "                    best_current_distance = distance \n",
        "                    best_current_paths = paths\n",
        "\n",
        "\n",
        "\n",
        "            if best_distance > best_current_distance:\n",
        "                best_distance = best_current_distance\n",
        "                best_paths = best_current_paths\n",
        "\n",
        "            self.y.append(best_distance)\n",
        "            self.z.append(best_current_distance)\n",
        "        # Apply global Info_transfer_ updating\n",
        "            __from = paths[0]\n",
        "            for nn in range(len(paths)):\n",
        "                __to = paths[nn]\n",
        "                if __from != __to:\n",
        "                    Info_transfer_Value = _Info_transfer_[__from][__to]\n",
        "                    tau = (( 1 - rho) * Info_transfer_Value) + _Info_transfer_InitialValue\n",
        "                    _Info_transfer_[__from][__to] = tau\n",
        "                    _Info_transfer_[__to][__from] = tau\n",
        "                __from = __to\n",
        "\n",
        "\n",
        "            print(it, \" ... \", distance, \":\", best_distance)\n",
        "\n",
        "        print()\n",
        "        print(\"All Process --- %s seconds ---\" % (time.time() - start_time_process))\n",
        "\n",
        "        #     print(best_current_paths)\n",
        "        print('Best path')\n",
        "        print(best_paths)\n",
        "        result = self.calculate_distance(best_paths)\n",
        "        print('Best distance')\n",
        "        print(result)\n",
        "        print()           \n",
        "        return best_paths, result"
      ]
    },
    {
      "cell_type": "code",
      "execution_count": null,
      "metadata": {
        "id": "xrjLFioiJHSG"
      },
      "outputs": [],
      "source": []
    },
    {
      "cell_type": "code",
      "execution_count": null,
      "metadata": {
        "id": "LRQUik3s9QuL"
      },
      "outputs": [],
      "source": [
        "def Plot(self):\n",
        "        fig = plt.figure()\n",
        "        ax = plt.axes()\n",
        "        y = np.array(self.y)\n",
        "        z = np.array(self.z)\n",
        "        __w = np.average(self.z)\n",
        "        w = [__w] * maxIterations\n",
        "        w = np.array(w)\n",
        "        x = np.linspace(0, maxIterations, maxIterations)\n",
        "        ax.plot(x, y, z);\n",
        "        ax.plot(x, w, z);"
      ]
    },
    {
      "cell_type": "code",
      "execution_count": null,
      "metadata": {
        "colab": {
          "base_uri": "https://localhost:8080/"
        },
        "id": "nOzg3MMqesM7",
        "outputId": "8c2df42b-9ace-4476-a94d-cc86b883662e"
      },
      "outputs": [
        {
          "name": "stdout",
          "output_type": "stream",
          "text": [
            "Cloning into 'aco_for_jupyter_notebook'...\n",
            "remote: Enumerating objects: 12, done.\u001b[K\n",
            "remote: Counting objects: 100% (3/3), done.\u001b[K\n",
            "remote: Compressing objects: 100% (3/3), done.\u001b[K\n",
            "remote: Total 12 (delta 0), reused 2 (delta 0), pack-reused 9\u001b[K\n",
            "Unpacking objects: 100% (12/12), done.\n"
          ]
        }
      ],
      "source": [
        "!git clone https://github.com/tribasuki74/aco_for_jupyter_notebook"
      ]
    },
    {
      "cell_type": "code",
      "execution_count": null,
      "metadata": {
        "colab": {
          "base_uri": "https://localhost:8080/"
        },
        "id": "F4YxzJILmQeP",
        "outputId": "7a5775e4-f3df-4a20-a4c8-9b4a29e03050"
      },
      "outputs": [
        {
          "name": "stdout",
          "output_type": "stream",
          "text": [
            "Mounted at /content/drive\n"
          ]
        }
      ],
      "source": [
        "from google.colab import drive\n",
        "drive.mount('/content/drive')\n",
        "file_url = 'https://raw.githubusercontent.com/Desi385/aco_for_jupyter_notebook/main/dataset/vdata_main.csv'\n",
        "_file = file_url.strip(\".csv\")\n"
      ]
    },
    {
      "cell_type": "code",
      "execution_count": null,
      "metadata": {
        "id": "df7mPj4bmcgO"
      },
      "outputs": [],
      "source": [
        "file_result =  '/content/drive/My Drive/Val_5k_final' + '_Result_ACO.csv'\n",
        "file_excel = '/content/drive/My Drive/Vikas' + '_DF.xlsx'\n",
        "\n",
        "df = pd.read_csv(file_url)"
      ]
    },
    {
      "cell_type": "code",
      "execution_count": null,
      "metadata": {
        "id": "VvHAUTNkm85v"
      },
      "outputs": [],
      "source": []
    },
    {
      "cell_type": "code",
      "execution_count": null,
      "metadata": {
        "id": "vO-TCT2eREpQ"
      },
      "outputs": [],
      "source": [
        "\n",
        "#file_url = 'https://raw.githubusercontent.com/Desi385/aco_for_jupyter_notebook/main/dataset/data_main.csv'#\n",
        "#_file = file_url.strip(\".csv\")\n",
        "#file_result =  _file + 'https://raw.githubusercontent.com/Desi385/aco_for_jupyter_notebook/main/dataset/data_Result_ACO.csv'\n",
        "#df = pd.read_csv(file_url)\n"
      ]
    },
    {
      "cell_type": "code",
      "execution_count": null,
      "metadata": {
        "colab": {
          "background_save": true,
          "base_uri": "https://localhost:8080/"
        },
        "id": "eVjpTDXpeqKZ",
        "outputId": "8e159d6f-d0ff-4083-854e-112b1bae8cb0"
      },
      "outputs": [
        {
          "name": "stdout",
          "output_type": "stream",
          "text": [
            "cluster\n",
            "0    1000\n",
            "2    1000\n",
            "3    1000\n",
            "4    1000\n",
            "1     999\n",
            "5     564\n",
            "Name: tracking_id, dtype: int64\n",
            "\n",
            "5563  data processing ... \n",
            "\n"
          ]
        }
      ],
      "source": [
        "_job = df.groupby('cluster')['tracking_id'].count().sort_values(ascending=[False])\n",
        "print(_job)\n",
        "# print(len(_job))\n",
        "print()\n",
        "\n",
        "max_capacity = 0\n",
        "for nc in range(len(_job)):\n",
        "       if _job[nc] > max_capacity:\n",
        "        max_capacity = _job[nc]\n",
        "        \n",
        "df1 = df[['lat', 'lng']]\n",
        "print(len(df1), \" data processing ... \") \n",
        "print()\n",
        "\n",
        "depot_lat = 2.971718\n",
        "depot_lng = 101.608376\n",
        "depot = 0\n",
        "\n",
        "_data = df[['lat', 'lng']]    \n",
        "_data.loc[-1] = [depot_lng, depot_lat]  # adding a row\n",
        "_data.index = _data.index + 1  # shifting index\n",
        "_data.sort_index(inplace=True) \n",
        "\n",
        "df1 = _data[['lng', 'lat']]\n",
        "problem = np.array(df1)\n",
        "distance = []\n",
        "for i in range(len(_data)):\n",
        "    lat = _data.iloc[i]['lat']\n",
        "    lng = _data.iloc[i]['lng']\n",
        "    from_node = (lng, lat)\n",
        "    result = []\n",
        "    for j in range(len(_data)):\n",
        "        lat = _data.iloc[j]['lat']\n",
        "        lng = _data.iloc[j]['lng']\n",
        "        to_node = (lng, lat)\n",
        "        if i == 0:\n",
        "            dist = 0\n",
        "        elif j == 0:\n",
        "            dist = 0\n",
        "        else:\n",
        "            dist = round(haversine(from_node, to_node, unit=Unit.METERS) * 2)\n",
        "        result.append(dist/1000)\n",
        "    distance.append(result)\n",
        "    \n",
        "#print(distance) \n",
        "#print()\n",
        "df5 = pd.DataFrame(distance)\n",
        "df5"
      ]
    },
    {
      "cell_type": "code",
      "execution_count": null,
      "metadata": {
        "id": "8fIaUezG8UHc"
      },
      "outputs": [],
      "source": [
        "\n",
        "nk = 5  # number of k = ants\n",
        "maxIterations = 100\n",
        "beta =  4  # Heuristic constant\n",
        "zeta = 0.4 # local Pheromone decay   \n",
        "rho = 0.2  # global Pheromone decay\n",
        "q0 = 0.7   # randomnize\n",
        "plot = False\n",
        "verbose = False\n",
        "\n",
        "optimizer = ACO()\n",
        "best_paths, result = optimizer.Fit(distance, nk, maxIterations, beta, zeta, rho, q0, plot, verbose)\n",
        "\n",
        "optimizer.Plot()\n",
        "\n",
        "# convert into list New order\n",
        "# -------\n",
        "_newCluster = [0] * len(df)\n",
        "_newOrder = [0] * len(df)\n",
        "\n",
        "_order = 1\n",
        "for o in range(len(best_paths)):\n",
        "    if o > 0:\n",
        "        pos = best_paths[o]\n",
        "\n",
        "        _newCluster[pos-1] = 0\n",
        "        _newOrder[pos-1] = _order\n",
        "        if verbose:\n",
        "            print(o, pos)\n",
        "            print(_newCluster)\n",
        "            print(_newOrder)\n",
        "\n",
        "        _order += 1\n",
        "\n",
        "print(_newCluster)\n",
        "print(_newOrder)\n",
        "df['New Cluster'] = _newCluster\n",
        "df['New Order'] = _newOrder\n",
        "print(\"Result was saving ... \", file_result)\n",
        "df.to_csv(file_result, index=False)  \n"
      ]
    },
    {
      "cell_type": "code",
      "execution_count": null,
      "metadata": {
        "id": "x4pDBQh73OfR"
      },
      "outputs": [],
      "source": []
    }
  ],
  "metadata": {
    "accelerator": "TPU",
    "colab": {
      "provenance": [],
      "include_colab_link": true
    },
    "gpuClass": "standard",
    "kernelspec": {
      "display_name": "Python 3",
      "name": "python3"
    },
    "language_info": {
      "name": "python"
    }
  },
  "nbformat": 4,
  "nbformat_minor": 0
}